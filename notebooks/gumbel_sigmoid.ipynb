{
 "cells": [
  {
   "attachments": {},
   "cell_type": "markdown",
   "metadata": {},
   "source": [
    "### 0. Dependencies"
   ]
  },
  {
   "cell_type": "code",
   "execution_count": 1,
   "metadata": {},
   "outputs": [],
   "source": [
    "import torch\n",
    "import torch.nn as nn\n",
    "import numpy as np"
   ]
  },
  {
   "attachments": {},
   "cell_type": "markdown",
   "metadata": {},
   "source": [
    "### 1. Implementation of Gumbel Sigmoid"
   ]
  },
  {
   "cell_type": "code",
   "execution_count": 2,
   "metadata": {},
   "outputs": [],
   "source": [
    "class GumbelSigmoid(nn.Module):\n",
    "    \"\"\"Implementation of Straight-Through version of Gumbel Sigmoid.\"\"\"\n",
    "\n",
    "    def __init__(\n",
    "        self,\n",
    "        t=0.5,\n",
    "        eps=1e-20,\n",
    "        hard=True,\n",
    "        threshold=0.5,\n",
    "        rate=1e-4,\n",
    "        step=1000,\n",
    "        min_val=0.5\n",
    "    ):\n",
    "        super().__init__()\n",
    "        # gumbel config\n",
    "        self.t = t\n",
    "        self.eps = eps\n",
    "        self.hard = hard\n",
    "        self.threshold = threshold\n",
    "\n",
    "        # TODO: send implementation with experiments to Ivan\n",
    "\n",
    "        # annealing config\n",
    "        self.rate = rate\n",
    "        self.step = step\n",
    "        self.min_val = min_val\n",
    "\n",
    "    def forward(self, x, iteration=None):\n",
    "        if iteration and iteration % self.step == 0:\n",
    "            self.t = np.maximum(np.exp(-self.rate * iteration), self.min_val)\n",
    "        t = self.t\n",
    "\n",
    "        y = self._gumbel_sigmoid_sample(x, t)\n",
    "        if not self.hard:\n",
    "            return y\n",
    "        indices = (y > self.threshold).nonzero(as_tuple=True)\n",
    "        y_hard = torch.zeros_like(x, memory_format=torch.legacy_contiguous_format)\n",
    "        y_hard[indices[0], indices[1]] = 1.0\n",
    "\n",
    "        return y_hard - y.detach() + y\n",
    "\n",
    "    def _gumbel_sigmoid_sample(self, x, t):\n",
    "        temperature = t or self.t\n",
    "        sample = self._sample_gumbel(x, x.device)\n",
    "        gumbels = (x + sample) / temperature\n",
    "        y_soft = gumbels.sigmoid()\n",
    "        return y_soft\n",
    "\n",
    "    def _sample_gumbel(self, x, device):\n",
    "        gumbels = (-torch.empty_like(x, memory_format=torch.legacy_contiguous_format, device=device).exponential_().log())\n",
    "        return gumbels"
   ]
  },
  {
   "cell_type": "code",
   "execution_count": 3,
   "metadata": {},
   "outputs": [],
   "source": [
    "gumbel = GumbelSigmoid()"
   ]
  },
  {
   "attachments": {},
   "cell_type": "markdown",
   "metadata": {},
   "source": [
    "### 2. Playground"
   ]
  },
  {
   "cell_type": "code",
   "execution_count": 4,
   "metadata": {},
   "outputs": [],
   "source": [
    "VECTOR_LEN = 100\n",
    "N_TRIALS = 100_000"
   ]
  },
  {
   "cell_type": "code",
   "execution_count": 5,
   "metadata": {},
   "outputs": [],
   "source": [
    "logits = torch.randn(1, VECTOR_LEN)\n",
    "binary = (nn.Sigmoid()(logits) > 0.5).type(torch.float32)"
   ]
  },
  {
   "cell_type": "code",
   "execution_count": 6,
   "metadata": {},
   "outputs": [],
   "source": [
    "hits = torch.zeros_like(logits)\n",
    "\n",
    "for i in range(N_TRIALS):\n",
    "    hits += (binary == gumbel(logits)).type(torch.float32)"
   ]
  },
  {
   "cell_type": "code",
   "execution_count": null,
   "metadata": {},
   "outputs": [
    {
     "name": "stdout",
     "output_type": "stream",
     "text": [
      "Average miss rate: 0.25416\n",
      "Maximal miss rate: 0.61886\n"
     ]
    }
   ],
   "source": [
    "miss_rate = ((N_TRIALS - hits) / N_TRIALS).flatten()\n",
    "\n",
    "print(f\"Average miss rate: {miss_rate.mean():.5f}\")\n",
    "print(f\"Maximal miss rate: {miss_rate.max():.5f}\")"
   ]
  }
 ],
 "metadata": {
  "kernelspec": {
   "display_name": "bottleneck",
   "language": "python",
   "name": "python3"
  },
  "language_info": {
   "codemirror_mode": {
    "name": "ipython",
    "version": 3
   },
   "file_extension": ".py",
   "mimetype": "text/x-python",
   "name": "python",
   "nbconvert_exporter": "python",
   "pygments_lexer": "ipython3",
   "version": "3.10.8"
  },
  "orig_nbformat": 4,
  "vscode": {
   "interpreter": {
    "hash": "d4c9afa37880c4f437a5548187b250674d5e73ff6f7d06ed2152e4da94b64133"
   }
  }
 },
 "nbformat": 4,
 "nbformat_minor": 2
}
