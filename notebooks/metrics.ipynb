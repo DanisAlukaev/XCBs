{
 "cells": [
  {
   "attachments": {},
   "cell_type": "markdown",
   "metadata": {},
   "source": [
    "## Measuring interpretability"
   ]
  },
  {
   "attachments": {},
   "cell_type": "markdown",
   "metadata": {},
   "source": [
    "Specify path to an experiment in a format `outputs/YYYY-MM-DD/HH-MM-SS`."
   ]
  },
  {
   "cell_type": "code",
   "execution_count": 1,
   "metadata": {},
   "outputs": [],
   "source": [
    "import warnings\n",
    "warnings.filterwarnings(\"ignore\")"
   ]
  },
  {
   "cell_type": "code",
   "execution_count": 2,
   "metadata": {},
   "outputs": [],
   "source": [
    "EXPERIMENT_PATH = \"outputs/2023-11-05/16-16-41\""
   ]
  },
  {
   "cell_type": "code",
   "execution_count": 3,
   "metadata": {},
   "outputs": [],
   "source": [
    "from helpers import load_experiment\n",
    "from extract import prepare_data_dci, fit_linear_model, compute_completeness, compute_disentanglement, compute_informativeness"
   ]
  },
  {
   "cell_type": "code",
   "execution_count": 4,
   "metadata": {},
   "outputs": [
    {
     "name": "stderr",
     "output_type": "stream",
     "text": [
      "Global seed set to 42\n",
      "100%|██████████| 2700/2700 [00:00<00:00, 6929.27it/s]\n"
     ]
    }
   ],
   "source": [
    "dm, model = load_experiment(EXPERIMENT_PATH)\n",
    "train_loader = dm.train_dataloader()\n",
    "test_loader = dm.test_dataloader()\n",
    "train_set = train_loader.dataset"
   ]
  },
  {
   "attachments": {},
   "cell_type": "markdown",
   "metadata": {},
   "source": [
    "### Disentanglement, Completenees, Informativeness (DCI)"
   ]
  },
  {
   "cell_type": "code",
   "execution_count": 5,
   "metadata": {},
   "outputs": [
    {
     "name": "stderr",
     "output_type": "stream",
     "text": [
      "100%|██████████| 29/29 [00:15<00:00,  1.82it/s]\n",
      "100%|██████████| 9/9 [00:09<00:00,  1.02s/it]\n"
     ]
    }
   ],
   "source": [
    "X_train, y_train = prepare_data_dci(train_loader, model)\n",
    "X_test, y_test = prepare_data_dci(test_loader, model)"
   ]
  },
  {
   "cell_type": "code",
   "execution_count": 6,
   "metadata": {},
   "outputs": [
    {
     "name": "stderr",
     "output_type": "stream",
     "text": [
      "100%|██████████| 6/6 [00:01<00:00,  3.13it/s]\n"
     ]
    }
   ],
   "source": [
    "R, errors = fit_linear_model(X_train, y_train, X_test, y_test)"
   ]
  },
  {
   "cell_type": "code",
   "execution_count": 7,
   "metadata": {},
   "outputs": [
    {
     "name": "stdout",
     "output_type": "stream",
     "text": [
      "Disentanglement: 0.725\n"
     ]
    }
   ],
   "source": [
    "disentanglement = compute_disentanglement(R)\n",
    "print(f\"Disentanglement: {disentanglement:.3f}\")"
   ]
  },
  {
   "cell_type": "code",
   "execution_count": 8,
   "metadata": {},
   "outputs": [
    {
     "name": "stdout",
     "output_type": "stream",
     "text": [
      "Completeness: 0.732\n"
     ]
    }
   ],
   "source": [
    "completeness = compute_completeness(R)\n",
    "print(f\"Completeness: {completeness:.3f}\")"
   ]
  },
  {
   "cell_type": "code",
   "execution_count": 9,
   "metadata": {},
   "outputs": [
    {
     "name": "stdout",
     "output_type": "stream",
     "text": [
      "Informativeness (NRMSE): 0.058\n"
     ]
    }
   ],
   "source": [
    "informativeness = compute_informativeness(errors)\n",
    "print(f\"Informativeness (NRMSE): {informativeness:.3f}\")"
   ]
  }
 ],
 "metadata": {
  "kernelspec": {
   "display_name": "Python 3 (ipykernel)",
   "language": "python",
   "name": "python3"
  },
  "orig_nbformat": 4
 },
 "nbformat": 4,
 "nbformat_minor": 2
}
