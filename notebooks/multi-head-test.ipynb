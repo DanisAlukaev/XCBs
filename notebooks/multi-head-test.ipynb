{
 "cells": [
  {
   "cell_type": "code",
   "execution_count": 1,
   "metadata": {},
   "outputs": [],
   "source": [
    "import torch.nn as nn\n",
    "import torch"
   ]
  },
  {
   "cell_type": "code",
   "execution_count": 2,
   "metadata": {},
   "outputs": [],
   "source": [
    "N_TOKENS = 500\n",
    "N_CONCEPTS = 300\n",
    "EMBED_SIZE = 100\n",
    "BATCH_SIZE = 64"
   ]
  },
  {
   "cell_type": "code",
   "execution_count": 3,
   "metadata": {},
   "outputs": [],
   "source": [
    "input_ = torch.rand(BATCH_SIZE, N_TOKENS, EMBED_SIZE)\n",
    "concepts_ = torch.rand(BATCH_SIZE, N_CONCEPTS, EMBED_SIZE)"
   ]
  },
  {
   "cell_type": "code",
   "execution_count": 4,
   "metadata": {},
   "outputs": [],
   "source": [
    "attention = nn.MultiheadAttention(embed_dim=EMBED_SIZE, num_heads=1, batch_first=True)"
   ]
  },
  {
   "cell_type": "code",
   "execution_count": 5,
   "metadata": {},
   "outputs": [
    {
     "data": {
      "text/plain": [
       "(torch.Size([64, 300, 100]), torch.Size([64, 300, 500]))"
      ]
     },
     "execution_count": 5,
     "metadata": {},
     "output_type": "execute_result"
    }
   ],
   "source": [
    "out, weights = attention(concepts_, input_, input_)\n",
    "\n",
    "out.shape, weights.shape"
   ]
  },
  {
   "cell_type": "code",
   "execution_count": 6,
   "metadata": {},
   "outputs": [
    {
     "data": {
      "text/plain": [
       "torch.Size([64, 300])"
      ]
     },
     "execution_count": 6,
     "metadata": {},
     "output_type": "execute_result"
    }
   ],
   "source": [
    "\n",
    "weights.sum(dim=2).shape"
   ]
  },
  {
   "cell_type": "code",
   "execution_count": 7,
   "metadata": {},
   "outputs": [],
   "source": [
    "import torch\n",
    "x = torch.rand(64, 20, 20)"
   ]
  },
  {
   "cell_type": "code",
   "execution_count": 8,
   "metadata": {},
   "outputs": [
    {
     "data": {
      "text/plain": [
       "torch.Size([64, 20, 20])"
      ]
     },
     "execution_count": 8,
     "metadata": {},
     "output_type": "execute_result"
    }
   ],
   "source": [
    "torch.nn.Linear(20, 20)(x).shape"
   ]
  },
  {
   "cell_type": "code",
   "execution_count": 12,
   "metadata": {},
   "outputs": [
    {
     "data": {
      "text/plain": [
       "tensor([-0.5392, -1.6842,  2.1287, -0.9996, -0.0918, -1.0289,  0.7269, -0.8552,\n",
       "         1.4781, -2.0916,  1.4071, -0.0483,  1.4157, -1.1046, -0.7982, -0.0397,\n",
       "        -1.3845,  0.2805,  0.3128,  0.2121, -0.3989,  0.2836,  1.6595, -1.7762,\n",
       "        -0.1208,  0.8577, -0.0425, -0.3098, -0.6341, -0.6159, -0.7735,  0.8514,\n",
       "        -0.6448, -0.0686,  0.1370,  0.2293, -0.0859, -2.0357,  1.0383, -1.3259,\n",
       "         0.5748, -0.0483,  0.0436, -1.6986, -1.4176, -1.2189,  0.4861,  0.4967,\n",
       "        -0.9279, -0.8002, -0.0323, -2.8358,  0.1157, -1.4193, -0.6376,  0.2255,\n",
       "         0.3400, -0.8765,  0.7401, -0.7537,  1.8084, -0.8462, -1.8286, -1.9487,\n",
       "        -0.8952, -0.5999, -1.1553, -1.7724,  0.4262, -0.7032,  0.6454, -0.5208,\n",
       "         0.6742, -0.6968,  0.2483, -0.3675, -0.8308,  0.5099, -2.0244, -0.7917,\n",
       "         0.9039,  1.0445, -0.1016, -0.1148, -1.8705, -0.0868,  0.5005, -0.9067,\n",
       "         1.4955, -1.4520, -0.2804,  0.9535, -0.6732,  0.9717, -0.0445,  0.8808,\n",
       "         2.0937, -0.5675, -1.3792, -0.6508], grad_fn=<EmbeddingBackward0>)"
      ]
     },
     "execution_count": 12,
     "metadata": {},
     "output_type": "execute_result"
    }
   ],
   "source": [
    "torch.nn.Embedding(10, 100)(torch.tensor(1))"
   ]
  },
  {
   "cell_type": "code",
   "execution_count": null,
   "metadata": {},
   "outputs": [],
   "source": []
  }
 ],
 "metadata": {
  "kernelspec": {
   "display_name": "bottleneck",
   "language": "python",
   "name": "python3"
  },
  "language_info": {
   "codemirror_mode": {
    "name": "ipython",
    "version": 3
   },
   "file_extension": ".py",
   "mimetype": "text/x-python",
   "name": "python",
   "nbconvert_exporter": "python",
   "pygments_lexer": "ipython3",
   "version": "3.10.8"
  },
  "orig_nbformat": 4
 },
 "nbformat": 4,
 "nbformat_minor": 2
}
