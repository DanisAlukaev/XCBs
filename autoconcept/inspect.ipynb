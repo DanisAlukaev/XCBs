{
 "cells": [
  {
   "cell_type": "code",
   "execution_count": null,
   "metadata": {},
   "outputs": [],
   "source": [
    "import json\n",
    "\n",
    "with open('results.json') as f:\n",
    "    results = json.load(f)"
   ]
  },
  {
   "cell_type": "code",
   "execution_count": null,
   "metadata": {},
   "outputs": [],
   "source": [
    "import matplotlib.pyplot as plt\n",
    "import numpy as np"
   ]
  },
  {
   "cell_type": "code",
   "execution_count": null,
   "metadata": {},
   "outputs": [],
   "source": [
    "def plot_instances(features):\n",
    "    fig, axes = plt.subplots(1, 10)\n",
    "    fig.set_size_inches(30, 5)\n",
    "    for i, ax in enumerate(axes):\n",
    "        image = plt.imread(features[i][0])\n",
    "        label = features[i][1]\n",
    "        image = image / 255.0\n",
    "        ax.set_title(f\"{label}\")\n",
    "        ax.imshow(image)\n",
    "        ax.set_axis_off()\n",
    "    plt.show()"
   ]
  },
  {
   "cell_type": "code",
   "execution_count": null,
   "metadata": {},
   "outputs": [],
   "source": [
    "def visualize_concept(concept_id=0):\n",
    "    print(f\"Concept #{concept_id}\")\n",
    "    print()\n",
    "    pair = results[concept_id]\n",
    "    print(pair[\"concept\"])\n",
    "    plot_instances(pair[\"feature\"])"
   ]
  },
  {
   "cell_type": "code",
   "execution_count": null,
   "metadata": {},
   "outputs": [],
   "source": [
    "for i in range(50):\n",
    "    visualize_concept(i)"
   ]
  }
 ],
 "metadata": {
  "kernelspec": {
   "display_name": "bottleneck",
   "language": "python",
   "name": "python3"
  },
  "language_info": {
   "codemirror_mode": {
    "name": "ipython",
    "version": 3
   },
   "file_extension": ".py",
   "mimetype": "text/x-python",
   "name": "python",
   "nbconvert_exporter": "python",
   "pygments_lexer": "ipython3",
   "version": "3.10.8"
  },
  "orig_nbformat": 4,
  "vscode": {
   "interpreter": {
    "hash": "d4c9afa37880c4f437a5548187b250674d5e73ff6f7d06ed2152e4da94b64133"
   }
  }
 },
 "nbformat": 4,
 "nbformat_minor": 2
}
