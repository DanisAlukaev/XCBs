{
 "cells": [
  {
   "cell_type": "code",
   "execution_count": null,
   "metadata": {},
   "outputs": [],
   "source": [
    "import json\n",
    "\n",
    "with open('/home/danis/Projects/AlphaCaption/AutoConceptBottleneck/autoconcept/outputs/2023-04-25/17-09-55/results.json') as f:\n",
    "    results = json.load(f)\n",
    "\n",
    "top_k = int(results[\"top_k\"])\n",
    "results = results[\"results\"]"
   ]
  },
  {
   "cell_type": "code",
   "execution_count": null,
   "metadata": {},
   "outputs": [],
   "source": [
    "import matplotlib.pyplot as plt\n",
    "import numpy as np"
   ]
  },
  {
   "cell_type": "code",
   "execution_count": null,
   "metadata": {},
   "outputs": [],
   "source": [
    "def plot_instances(features):\n",
    "    fig, axes = plt.subplots(3, top_k)\n",
    "    fig.set_size_inches(10, 4)\n",
    "    labels = [\"lrg\", \"mdm\", \"sml\"]\n",
    "    for i, ax in enumerate(axes.flatten()):\n",
    "        label = labels[i // top_k]\n",
    "        image = plt.imread(features[label][i % top_k][0])\n",
    "        label = float(features[label][i % top_k][1])\n",
    "        ax.set_title(f\"{label:.3f}\")\n",
    "        ax.imshow(image)\n",
    "        ax.xaxis.set_ticks_position('none') \n",
    "        ax.yaxis.set_ticks_position('none') \n",
    "        ax.set_yticklabels([])\n",
    "        ax.set_xticklabels([])\n",
    "    plt.show()"
   ]
  },
  {
   "cell_type": "code",
   "execution_count": null,
   "metadata": {},
   "outputs": [],
   "source": [
    "def visualize_concept(concept_id=0):\n",
    "    print(f\"Concept #{concept_id + 1}\\n\")\n",
    "    print(\"Top-k tokens w.r.t. average attention score:\")\n",
    "    pair = results[concept_id]\n",
    "    token_attn = [(t, a) for t, a in pair[\"concept\"]]\n",
    "    for idx, (t, a) in enumerate(token_attn):\n",
    "        print(f\"\\t{idx + 1}. {t}: {a:.4f}\", sep=\" \")\n",
    "    if pair[\"feature\"]:\n",
    "        print(\"\\nTop-n images with largest absolute values of logits:\")\n",
    "        plot_instances(pair[\"feature\"])\n",
    "    print(120 * \"-\")"
   ]
  },
  {
   "cell_type": "code",
   "execution_count": null,
   "metadata": {},
   "outputs": [],
   "source": [
    "for i in range(51):\n",
    "    visualize_concept(i)"
   ]
  },
  {
   "cell_type": "code",
   "execution_count": null,
   "metadata": {},
   "outputs": [],
   "source": []
  }
 ],
 "metadata": {
  "kernelspec": {
   "display_name": "bottleneck",
   "language": "python",
   "name": "python3"
  },
  "language_info": {
   "codemirror_mode": {
    "name": "ipython",
    "version": 3
   },
   "file_extension": ".py",
   "mimetype": "text/x-python",
   "name": "python",
   "nbconvert_exporter": "python",
   "pygments_lexer": "ipython3",
   "version": "3.10.8"
  },
  "orig_nbformat": 4,
  "vscode": {
   "interpreter": {
    "hash": "d4c9afa37880c4f437a5548187b250674d5e73ff6f7d06ed2152e4da94b64133"
   }
  }
 },
 "nbformat": 4,
 "nbformat_minor": 2
}
