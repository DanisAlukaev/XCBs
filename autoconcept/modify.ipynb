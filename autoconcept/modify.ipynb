{
 "cells": [
  {
   "cell_type": "code",
   "execution_count": 22,
   "metadata": {},
   "outputs": [],
   "source": [
    "import pandas as pd\n",
    "import random\n",
    "import string"
   ]
  },
  {
   "cell_type": "code",
   "execution_count": 23,
   "metadata": {},
   "outputs": [],
   "source": [
    "path_to_source = \"data/shapes-hard-3/captions.csv\""
   ]
  },
  {
   "cell_type": "code",
   "execution_count": 24,
   "metadata": {},
   "outputs": [],
   "source": [
    "source_df = pd.read_csv(path_to_source)"
   ]
  },
  {
   "cell_type": "code",
   "execution_count": 25,
   "metadata": {},
   "outputs": [],
   "source": [
    "generate_token = lambda : ''.join(random.choice(string.ascii_lowercase) for _ in range(random.randint(3, 9)))\n",
    "\n",
    "vocabulary = [generate_token() for i in range(100)]"
   ]
  },
  {
   "cell_type": "code",
   "execution_count": 26,
   "metadata": {},
   "outputs": [],
   "source": [
    "generate_caption = lambda : ' '.join(random.choice(vocabulary) for _ in range(random.randint(8, 13)))"
   ]
  },
  {
   "cell_type": "code",
   "execution_count": 27,
   "metadata": {},
   "outputs": [],
   "source": [
    "PERCENT_SAMPLE = 0.10"
   ]
  },
  {
   "cell_type": "code",
   "execution_count": 28,
   "metadata": {},
   "outputs": [],
   "source": [
    "for class_id in range(0, 9):\n",
    "    indices = list(source_df[source_df.class_id == class_id].index)\n",
    "    share = int(len(indices) * PERCENT_SAMPLE)\n",
    "    samples_idx = random.sample(indices, share)\n",
    "    for sample_idx in samples_idx:\n",
    "        source_df.at[sample_idx, \"caption\"] = generate_caption()\n"
   ]
  },
  {
   "cell_type": "code",
   "execution_count": 29,
   "metadata": {},
   "outputs": [],
   "source": [
    "new_path = \"data/shapes-hard-3/captions-noise-100-100.csv\"\n",
    "source_df.to_csv(new_path, index=False)"
   ]
  },
  {
   "cell_type": "code",
   "execution_count": null,
   "metadata": {},
   "outputs": [],
   "source": []
  },
  {
   "cell_type": "code",
   "execution_count": 19,
   "metadata": {},
   "outputs": [],
   "source": [
    "import pandas as pd\n",
    "import random\n",
    "import string"
   ]
  },
  {
   "cell_type": "code",
   "execution_count": 20,
   "metadata": {},
   "outputs": [],
   "source": [
    "path_to_source = \"data/shapes-hard-3/captions.csv\""
   ]
  },
  {
   "cell_type": "code",
   "execution_count": 21,
   "metadata": {},
   "outputs": [],
   "source": [
    "source_df = pd.read_csv(path_to_source)"
   ]
  },
  {
   "cell_type": "code",
   "execution_count": 22,
   "metadata": {},
   "outputs": [],
   "source": [
    "paraphrased = {\n",
    "    0: [\"four angle \", \"angle four \", \"four corner \", \"corner four \", \"quadratic \", \"red \", \"scarlet \", \"crimson \", \"cherry \", \"ruby \"],\n",
    "    1: [\"four angle \", \"angle four \", \"four corner \", \"corner four \", \"quadratic \", \"green \", \"olive \", \"lime \", \"emerald \", \"fern \"],\n",
    "    2: [\"four angle \", \"angle four \", \"four corner \", \"corner four \", \"quadratic \", \"blue \", \"cyan \", \"azure \", \"lapis \", \"navy \"],\n",
    "    3: [\"three angle \", \"angle three \", \"three corner \", \"corner three \", \"triangular \", \"red \", \"scarlet \", \"crimson \", \"cherry \", \"ruby \"],\n",
    "    4: [\"three angle \", \"angle three \", \"three corner \", \"corner three \", \"triangular \", \"green \", \"olive \", \"lime \", \"emerald \", \"fern \"],\n",
    "    5: [\"three angle \", \"angle three \", \"three corner \", \"corner three \", \"triangular \", \"blue \", \"cyan \", \"azure \", \"lapis \", \"navy \"],\n",
    "    6: [\"round \", \"no angle \", \"circular \", \"no corner \", \"red \", \"scarlet \", \"crimson \", \"cherry \", \"ruby \"],\n",
    "    7: [\"round \", \"no angle \", \"circular \", \"no corner \", \"green \", \"olive \", \"lime \", \"emerald \", \"fern \"],\n",
    "    8: [\"round \", \"no angle \", \"circular \", \"no corner \", \"blue \", \"cyan \", \"azure \", \"lapis \", \"navy \"]\n",
    "}"
   ]
  },
  {
   "cell_type": "code",
   "execution_count": 26,
   "metadata": {},
   "outputs": [],
   "source": [
    "generate_caption = lambda x, i: x + \" \" + random.choice(paraphrased[i]) + \" \" + random.choice(paraphrased[i]) + \" \" + random.choice(paraphrased[i])"
   ]
  },
  {
   "cell_type": "code",
   "execution_count": 27,
   "metadata": {},
   "outputs": [],
   "source": [
    "for class_id in range(0, 9):\n",
    "    indices = list(source_df[source_df.class_id == class_id].index)\n",
    "    for sample_idx in indices:\n",
    "        source_df.at[sample_idx, \"caption\"] = generate_caption(source_df.at[sample_idx, \"caption\"], class_id)\n"
   ]
  },
  {
   "cell_type": "code",
   "execution_count": 28,
   "metadata": {},
   "outputs": [],
   "source": [
    "new_path = \"data/shapes-hard-3/captions-redundancy.csv\"\n",
    "source_df.to_csv(new_path, index=False)"
   ]
  },
  {
   "cell_type": "code",
   "execution_count": 10,
   "metadata": {},
   "outputs": [],
   "source": [
    "import numpy as np"
   ]
  },
  {
   "cell_type": "code",
   "execution_count": 12,
   "metadata": {},
   "outputs": [],
   "source": [
    "f1 = np.array([0.9209, 0.9190, 0.9416, 0.9096, 0.9303])\n",
    "d = np.array([0.4638, 0.7253, 0.6567, 0.7359, 0.7641])\n",
    "c = np.array([0.4707, 0.8535, 0.6926, 0.7712, 0.7484])\n",
    "i = np.array([0.0699, 0.0702, 0.0766, 0.0885, 0.0469])"
   ]
  },
  {
   "cell_type": "code",
   "execution_count": 17,
   "metadata": {},
   "outputs": [],
   "source": [
    "f1 = np.array([0.9812, 0.9510, 0.9416, 0.9492, 0.9473])\n",
    "d = np.array([0.6814, 0.8012, 0.7900, 0.7575, 0.8610])\n",
    "c = np.array([0.6999, 0.7939, 0.8385, 0.8507, 0.7989])\n",
    "i = np.array([0.0812, 0.0732, 0.0538, 0.0617, 0.0605])"
   ]
  },
  {
   "cell_type": "code",
   "execution_count": 30,
   "metadata": {},
   "outputs": [],
   "source": [
    "f1 = np.array([0.9416, 0.9341, 0.9567, 0.9473, 0.9171])\n",
    "d = np.array([0.7944, 0.7749, 0.7840, 0.6419, 0.7694])\n",
    "c = np.array([0.8177, 0.8150, 0.7096, 0.6820, 0.7957])\n",
    "i = np.array([0.1077, 0.0744, 0.0734, 0.0823, 0.0982])"
   ]
  },
  {
   "cell_type": "code",
   "execution_count": 31,
   "metadata": {},
   "outputs": [
    {
     "data": {
      "text/plain": [
       "(0.93936, 0.013355987421377715)"
      ]
     },
     "execution_count": 31,
     "metadata": {},
     "output_type": "execute_result"
    }
   ],
   "source": [
    "f1.mean(), f1.std()"
   ]
  },
  {
   "cell_type": "code",
   "execution_count": 32,
   "metadata": {},
   "outputs": [
    {
     "data": {
      "text/plain": [
       "(0.75292, 0.0561546222496421)"
      ]
     },
     "execution_count": 32,
     "metadata": {},
     "output_type": "execute_result"
    }
   ],
   "source": [
    "d.mean(), d.std()"
   ]
  },
  {
   "cell_type": "code",
   "execution_count": 33,
   "metadata": {},
   "outputs": [
    {
     "data": {
      "text/plain": [
       "(0.764, 0.056873438440101336)"
      ]
     },
     "execution_count": 33,
     "metadata": {},
     "output_type": "execute_result"
    }
   ],
   "source": [
    "c.mean(), c.std()"
   ]
  },
  {
   "cell_type": "code",
   "execution_count": 34,
   "metadata": {},
   "outputs": [
    {
     "data": {
      "text/plain": [
       "(0.0872, 0.013561268377257343)"
      ]
     },
     "execution_count": 34,
     "metadata": {},
     "output_type": "execute_result"
    }
   ],
   "source": [
    "i.mean(), i.std()"
   ]
  },
  {
   "cell_type": "markdown",
   "metadata": {},
   "source": [
    "0.92 ± 0.01, 0.66 ± 0.11, 0.71 ± 0.13, 0.07 ± 0.01\n",
    "0.95 ± 0.01, 0.79 ± 0.06, 0.80 ± 0.05, 0.07 ± 0.01\n",
    "\n",
    "0.94 ± 0.01, 0.75 ± 0.06, 0.76 ± 0.06, 0.08 ± 0.01"
   ]
  }
 ],
 "metadata": {
  "kernelspec": {
   "display_name": "Python 3 (ipykernel)",
   "language": "python",
   "name": "python3"
  },
  "language_info": {
   "codemirror_mode": {
    "name": "ipython",
    "version": 3
   },
   "file_extension": ".py",
   "mimetype": "text/x-python",
   "name": "python",
   "nbconvert_exporter": "python",
   "pygments_lexer": "ipython3",
   "version": "3.10.8"
  },
  "orig_nbformat": 4
 },
 "nbformat": 4,
 "nbformat_minor": 2
}
