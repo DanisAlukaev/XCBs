{
 "cells": [
  {
   "cell_type": "code",
   "execution_count": 1,
   "metadata": {},
   "outputs": [],
   "source": [
    "import os \n",
    "\n",
    "import torch\n",
    "import torch.nn as nn \n",
    "import numpy as np\n",
    "import matplotlib.pyplot as plt\n",
    "\n",
    "from tqdm import tqdm\n",
    "\n",
    "from helpers import load_experiment"
   ]
  },
  {
   "cell_type": "code",
   "execution_count": 2,
   "metadata": {},
   "outputs": [
    {
     "name": "stderr",
     "output_type": "stream",
     "text": [
      "Global seed set to 42\n"
     ]
    },
    {
     "name": "stdout",
     "output_type": "stream",
     "text": [
      "Fetching configuration...\n",
      "Loading datamodule...\n"
     ]
    },
    {
     "name": "stderr",
     "output_type": "stream",
     "text": [
      "[nltk_data] Downloading package wordnet to /home/danis/nltk_data...\n",
      "[nltk_data]   Package wordnet is already up-to-date!\n",
      "Warning : `load_model` does not return WordVectorModel or SupervisedModel any more, but a `FastText` object which is very similar.\n",
      "/home/danis/anaconda3/envs/bottleneck/lib/python3.10/site-packages/torchtext/data/utils.py:105: UserWarning: Spacy model \"en\" could not be loaded, trying \"en_core_web_sm\" instead\n",
      "  warnings.warn(\n",
      "100%|██████████| 2700/2700 [00:00<00:00, 8550.22it/s]\n"
     ]
    },
    {
     "name": "stdout",
     "output_type": "stream",
     "text": [
      "Len of vocab:  54\n",
      "Max len of caption:  16\n",
      "Index for <pad>: [0]\n",
      "Loading model\n"
     ]
    },
    {
     "name": "stderr",
     "output_type": "stream",
     "text": [
      "/home/danis/anaconda3/envs/bottleneck/lib/python3.10/site-packages/pytorch_lightning/utilities/parsing.py:262: UserWarning: Attribute 'criterion_task' is an instance of `nn.Module` and is already saved during checkpointing. It is recommended to ignore them using `self.save_hyperparameters(ignore=['criterion_task'])`.\n",
      "  rank_zero_warn(\n",
      "/home/danis/anaconda3/envs/bottleneck/lib/python3.10/site-packages/pytorch_lightning/utilities/parsing.py:262: UserWarning: Attribute 'criterion_tie' is an instance of `nn.Module` and is already saved during checkpointing. It is recommended to ignore them using `self.save_hyperparameters(ignore=['criterion_tie'])`.\n",
      "  rank_zero_warn(\n"
     ]
    }
   ],
   "source": [
    "# baseline /home/danis/Projects/AlphaCaption/AutoConceptBottleneck/autoconcept/outputs/2023-05-11/18-14-45\n",
    "# framework (simple) /home/danis/Projects/AlphaCaption/AutoConceptBottleneck/autoconcept/outputs/2023-05-11/19-47-58\n",
    "# framework /home/danis/Projects/AlphaCaption/AutoConceptBottleneck/autoconcept/outputs/2023-05-11/20-17-31\n",
    "# framework (parallel) /home/danis/Projects/AlphaCaption/AutoConceptBottleneck/autoconcept/outputs/2023-05-11/21-18-11\n",
    "# baseline (sigmoid) /home/danis/Projects/AlphaCaption/AutoConceptBottleneck/autoconcept/outputs/2023-05-12/06-58-58\n",
    "\n",
    "dm, model = load_experiment(\"/home/danis/Projects/AlphaCaption/AutoConceptBottleneck/autoconcept/outputs/2023-05-11/20-17-31\")"
   ]
  },
  {
   "cell_type": "code",
   "execution_count": 3,
   "metadata": {},
   "outputs": [],
   "source": [
    "train_loader = dm.train_dataloader()\n",
    "train_set = train_loader.dataset"
   ]
  },
  {
   "cell_type": "code",
   "execution_count": 4,
   "metadata": {},
   "outputs": [],
   "source": [
    "# [red, green, blue, square, triangle, circle]\n",
    "\n",
    "attribute_mapping = {\n",
    "    0: [1, 0, 0, 1, 0, 0, 1, 0, 0, 0, 0, 0, 0, 0, 0\n",
    "        ],\n",
    "    1: [0, 1, 0, 1, 0, 0, 0, 1, 0, 0, 0, 0, 0, 0, 0\n",
    "        ],\n",
    "    2: [0, 0, 1, 1, 0, 0, 0, 0, 1, 0, 0, 0, 0, 0, 0\n",
    "        ],\n",
    "    3: [1, 0, 0, 0, 1, 0, 0, 0, 0, 1, 0, 0, 0, 0, 0\n",
    "        ],\n",
    "    4: [0, 1, 0, 0, 1, 0, 0, 0, 0, 0, 1, 0, 0, 0, 0\n",
    "        ],\n",
    "    5: [0, 0, 1, 0, 1, 0, 0, 0, 0, 0, 0, 1, 0, 0, 0\n",
    "        ],\n",
    "    6: [1, 0, 0, 0, 0, 1, 0, 0, 0, 0, 0, 0, 1, 0, 0\n",
    "        ],\n",
    "    7: [0, 1, 0, 0, 0, 1, 0, 0, 0, 0, 0, 0, 0, 1, 0\n",
    "        ],\n",
    "    8: [0, 0, 1, 0, 0, 1, 0, 0, 0, 0, 0, 0, 0, 0, 1\n",
    "        ],\n",
    "}"
   ]
  },
  {
   "cell_type": "code",
   "execution_count": 5,
   "metadata": {},
   "outputs": [],
   "source": [
    "batch = next(iter(train_loader))"
   ]
  },
  {
   "cell_type": "code",
   "execution_count": 11,
   "metadata": {},
   "outputs": [
    {
     "name": "stdout",
     "output_type": "stream",
     "text": [
      "tensor(0.0116, device='cuda:0', grad_fn=<MinBackward1>) tensor(0.2128, device='cuda:0', grad_fn=<MaxBackward1>)\n",
      "Parameter containing:\n",
      "tensor(1.0729, device='cuda:0', requires_grad=True) Parameter containing:\n",
      "tensor(0.3637, device='cuda:0', requires_grad=True)\n",
      "(tensor(-6.0242, device='cuda:0', grad_fn=<MinBackward1>), tensor(-2.5062, device='cuda:0', grad_fn=<MinBackward1>)) (tensor(1.3049, device='cuda:0', grad_fn=<MaxBackward1>), tensor(1.0507, device='cuda:0', grad_fn=<MaxBackward1>)) (tensor(0.5420, device='cuda:0', grad_fn=<MinBackward1>), tensor(0.2299, device='cuda:0', grad_fn=<MinBackward1>))\n"
     ]
    },
    {
     "data": {
      "text/plain": [
       "(tensor([[0., 0., 0., 1., 0., 1., 0., 0., 1., 1.]], device='cuda:0',\n",
       "        grad_fn=<AddBackward0>),\n",
       " tensor([[1., 0., 0., 1., 0., 0., 0., 1., 1., 1.]], device='cuda:0',\n",
       "        grad_fn=<AddBackward0>))"
      ]
     },
     "execution_count": 11,
     "metadata": {},
     "output_type": "execute_result"
    }
   ],
   "source": [
    "img_ = batch[\"image\"][0].cuda().unsqueeze(0)\n",
    "ind_ = batch[\"indices\"][0].cuda().unsqueeze(0)\n",
    "\n",
    "a = model(img_, ind_)\n",
    "\n",
    "a[\"feature_activated\"], a[\"concept_activated\"]"
   ]
  },
  {
   "cell_type": "code",
   "execution_count": 12,
   "metadata": {},
   "outputs": [
    {
     "data": {
      "text/plain": [
       "{'feature_logits': tensor([[-0.9177, -2.9081, -6.0242,  1.3049, -3.9880, -1.8043, -2.5249,  0.5420,\n",
       "           0.6947, -2.7098]], device='cuda:0', grad_fn=<AddmmBackward0>),\n",
       " 'concept_logits': tensor([[ 0.4346, -2.1049, -0.9460,  1.0507, -2.5062, -0.5579, -2.4468,  0.2299,\n",
       "           0.7544, -2.4062]], device='cuda:0', grad_fn=<SqueezeBackward1>),\n",
       " 'feature_probs': tensor([[0.2854, 0.0518, 0.0024, 0.7867, 0.0182, 0.1413, 0.0741, 0.6323, 0.6670,\n",
       "          0.0624]], device='cuda:0', grad_fn=<SigmoidBackward0>),\n",
       " 'concept_probs': tensor([[0.6070, 0.1086, 0.2797, 0.7409, 0.0754, 0.3640, 0.0797, 0.5572, 0.6801,\n",
       "          0.0827]], device='cuda:0', grad_fn=<SigmoidBackward0>),\n",
       " 'feature_activated': tensor([[0., 0., 0., 1., 0., 1., 0., 0., 1., 1.]], device='cuda:0',\n",
       "        grad_fn=<AddBackward0>),\n",
       " 'concept_activated': tensor([[1., 0., 0., 1., 0., 0., 0., 1., 1., 1.]], device='cuda:0',\n",
       "        grad_fn=<AddBackward0>),\n",
       " 'prediction': tensor([[ 0.0444, -1.8798,  0.0704,  1.5357, -1.8278, -0.8128,  2.1471, -1.3501,\n",
       "          -0.6199]], device='cuda:0', grad_fn=<NativeBatchNormBackward0>),\n",
       " 'scores': tensor([[[4.4097e-02, 9.2868e-02, 1.6597e-02, 1.0791e-02, 4.8847e-08,\n",
       "           8.4473e-02, 2.8808e-02, 2.5768e-02, 8.2162e-02, 3.1140e-03,\n",
       "           5.7817e-02, 1.6324e-01, 7.0456e-02, 4.1736e-02, 4.8847e-08,\n",
       "           4.8847e-08],\n",
       "          [2.1652e-02, 5.6093e-08, 6.2837e-02, 5.6093e-08, 2.1251e-01,\n",
       "           3.9429e-02, 6.6656e-02, 5.6093e-08, 5.6093e-08, 1.5088e-02,\n",
       "           1.6323e-01, 5.6093e-08, 5.6093e-08, 9.6798e-02, 5.6093e-08,\n",
       "           5.6093e-08],\n",
       "          [1.6743e-07, 1.6743e-07, 6.5863e-03, 1.6743e-07, 1.6743e-07,\n",
       "           1.6743e-07, 1.6743e-07, 1.6743e-07, 1.6743e-07, 1.6743e-07,\n",
       "           1.6743e-07, 1.6743e-07, 1.6743e-07, 1.6743e-07, 1.6743e-07,\n",
       "           1.6743e-07],\n",
       "          [1.5548e-07, 1.5548e-07, 7.8675e-02, 1.5548e-07, 1.5548e-07,\n",
       "           1.5548e-07, 1.5548e-07, 1.5548e-07, 1.5548e-07, 1.5548e-07,\n",
       "           1.5548e-07, 1.5548e-07, 1.5548e-07, 1.5548e-07, 1.5548e-07,\n",
       "           1.5548e-07],\n",
       "          [1.0427e-01, 1.3249e-01, 1.0872e-01, 3.0790e-08, 1.6166e-01,\n",
       "           9.2494e-02, 8.7632e-02, 3.0790e-08, 9.4199e-04, 2.2144e-02,\n",
       "           6.0523e-02, 2.6553e-02, 9.2498e-03, 2.4249e-02, 3.0790e-08,\n",
       "           3.0790e-08],\n",
       "          [1.5071e-07, 1.5071e-07, 1.5071e-07, 1.5071e-07, 1.5071e-07,\n",
       "           1.5071e-07, 1.5071e-07, 1.5071e-07, 1.5071e-07, 1.5071e-07,\n",
       "           1.0740e-01, 1.5071e-07, 1.5071e-07, 1.5071e-07, 1.5071e-07,\n",
       "           1.5071e-07],\n",
       "          [4.2345e-02, 2.7949e-02, 1.1677e-02, 1.2679e-01, 4.1814e-08,\n",
       "           2.6218e-02, 4.1847e-02, 1.0701e-01, 4.2333e-02, 2.0313e-01,\n",
       "           1.3070e-02, 6.1470e-02, 2.7580e-02, 3.2953e-02, 4.1814e-08,\n",
       "           4.1814e-08],\n",
       "          [1.3609e-07, 1.3609e-07, 1.5956e-01, 1.3609e-07, 1.3609e-07,\n",
       "           1.3609e-07, 1.3609e-07, 1.3609e-07, 1.3609e-07, 1.3609e-07,\n",
       "           3.6063e-02, 1.3609e-07, 1.3609e-07, 1.3609e-07, 1.3609e-07,\n",
       "           1.3609e-07],\n",
       "          [2.9598e-02, 4.1430e-02, 3.2678e-02, 8.5766e-02, 2.5536e-02,\n",
       "           4.1260e-02, 4.7582e-02, 1.5402e-01, 9.5239e-02, 1.0862e-01,\n",
       "           4.0427e-02, 4.3112e-02, 5.0652e-02, 6.0515e-02, 2.6568e-08,\n",
       "           2.6568e-08],\n",
       "          [1.1666e-07, 1.1859e-01, 1.7099e-01, 1.1666e-07, 1.1666e-07,\n",
       "           3.1928e-03, 1.1666e-07, 1.1666e-07, 1.1666e-07, 1.1666e-07,\n",
       "           2.0065e-02, 1.1666e-07, 1.1666e-07, 1.1666e-07, 1.1666e-07,\n",
       "           1.1666e-07],\n",
       "          [8.9611e-02, 1.5456e-02, 8.8591e-03, 9.8598e-02, 2.8021e-08,\n",
       "           6.6028e-02, 7.2409e-02, 3.1278e-02, 1.0340e-01, 5.1527e-05,\n",
       "           2.6813e-02, 7.5741e-02, 1.5947e-01, 9.9937e-02, 2.8021e-08,\n",
       "           2.8021e-08]]], device='cuda:0', grad_fn=<SliceBackward0>),\n",
       " 'scores_aux': tensor([[[4.4097e-02, 9.2868e-02, 1.6597e-02, 1.0791e-02, 4.8847e-08,\n",
       "           8.4473e-02, 2.8808e-02, 2.5768e-02, 8.2162e-02, 3.1140e-03,\n",
       "           5.7817e-02, 1.6324e-01, 7.0456e-02, 4.1736e-02, 4.8847e-08,\n",
       "           4.8847e-08, 2.7808e-01],\n",
       "          [2.1652e-02, 5.6093e-08, 6.2837e-02, 5.6093e-08, 2.1251e-01,\n",
       "           3.9429e-02, 6.6656e-02, 5.6093e-08, 5.6093e-08, 1.5088e-02,\n",
       "           1.6323e-01, 5.6093e-08, 5.6093e-08, 9.6798e-02, 5.6093e-08,\n",
       "           5.6093e-08, 3.2180e-01],\n",
       "          [1.6743e-07, 1.6743e-07, 6.5863e-03, 1.6743e-07, 1.6743e-07,\n",
       "           1.6743e-07, 1.6743e-07, 1.6743e-07, 1.6743e-07, 1.6743e-07,\n",
       "           1.6743e-07, 1.6743e-07, 1.6743e-07, 1.6743e-07, 1.6743e-07,\n",
       "           1.6743e-07, 9.9341e-01],\n",
       "          [1.5548e-07, 1.5548e-07, 7.8675e-02, 1.5548e-07, 1.5548e-07,\n",
       "           1.5548e-07, 1.5548e-07, 1.5548e-07, 1.5548e-07, 1.5548e-07,\n",
       "           1.5548e-07, 1.5548e-07, 1.5548e-07, 1.5548e-07, 1.5548e-07,\n",
       "           1.5548e-07, 9.2132e-01],\n",
       "          [1.0427e-01, 1.3249e-01, 1.0872e-01, 3.0790e-08, 1.6166e-01,\n",
       "           9.2494e-02, 8.7632e-02, 3.0790e-08, 9.4199e-04, 2.2144e-02,\n",
       "           6.0523e-02, 2.6553e-02, 9.2498e-03, 2.4249e-02, 3.0790e-08,\n",
       "           3.0790e-08, 1.6907e-01],\n",
       "          [1.5071e-07, 1.5071e-07, 1.5071e-07, 1.5071e-07, 1.5071e-07,\n",
       "           1.5071e-07, 1.5071e-07, 1.5071e-07, 1.5071e-07, 1.5071e-07,\n",
       "           1.0740e-01, 1.5071e-07, 1.5071e-07, 1.5071e-07, 1.5071e-07,\n",
       "           1.5071e-07, 8.9260e-01],\n",
       "          [4.2345e-02, 2.7949e-02, 1.1677e-02, 1.2679e-01, 4.1814e-08,\n",
       "           2.6218e-02, 4.1847e-02, 1.0701e-01, 4.2333e-02, 2.0313e-01,\n",
       "           1.3070e-02, 6.1470e-02, 2.7580e-02, 3.2953e-02, 4.1814e-08,\n",
       "           4.1814e-08, 2.3563e-01],\n",
       "          [1.3609e-07, 1.3609e-07, 1.5956e-01, 1.3609e-07, 1.3609e-07,\n",
       "           1.3609e-07, 1.3609e-07, 1.3609e-07, 1.3609e-07, 1.3609e-07,\n",
       "           3.6063e-02, 1.3609e-07, 1.3609e-07, 1.3609e-07, 1.3609e-07,\n",
       "           1.3609e-07, 8.0438e-01],\n",
       "          [2.9598e-02, 4.1430e-02, 3.2678e-02, 8.5766e-02, 2.5536e-02,\n",
       "           4.1260e-02, 4.7582e-02, 1.5402e-01, 9.5239e-02, 1.0862e-01,\n",
       "           4.0427e-02, 4.3112e-02, 5.0652e-02, 6.0515e-02, 2.6568e-08,\n",
       "           2.6568e-08, 1.4357e-01],\n",
       "          [1.1666e-07, 1.1859e-01, 1.7099e-01, 1.1666e-07, 1.1666e-07,\n",
       "           3.1928e-03, 1.1666e-07, 1.1666e-07, 1.1666e-07, 1.1666e-07,\n",
       "           2.0065e-02, 1.1666e-07, 1.1666e-07, 1.1666e-07, 1.1666e-07,\n",
       "           1.1666e-07, 6.8716e-01],\n",
       "          [8.9611e-02, 1.5456e-02, 8.8591e-03, 9.8598e-02, 2.8021e-08,\n",
       "           6.6028e-02, 7.2409e-02, 3.1278e-02, 1.0340e-01, 5.1527e-05,\n",
       "           2.6813e-02, 7.5741e-02, 1.5947e-01, 9.9937e-02, 2.8021e-08,\n",
       "           2.8021e-08, 1.5234e-01]]], device='cuda:0', grad_fn=<DivBackward0>),\n",
       " 'prediction_aux': tensor([[-0.2280, -1.9948,  0.4689, -1.6679, -2.6789, -0.1397,  2.2101,  0.7304,\n",
       "           2.9290]], device='cuda:0', grad_fn=<NativeBatchNormBackward0>),\n",
       " 'loss_dist': tensor(-0.1084, device='cuda:0', grad_fn=<MeanBackward0>)}"
      ]
     },
     "execution_count": 12,
     "metadata": {},
     "output_type": "execute_result"
    }
   ],
   "source": [
    "a"
   ]
  },
  {
   "cell_type": "code",
   "execution_count": 14,
   "metadata": {},
   "outputs": [
    {
     "ename": "AttributeError",
     "evalue": "'str' object has no attribute 'unsqueeze'",
     "output_type": "error",
     "traceback": [
      "\u001b[0;31m---------------------------------------------------------------------------\u001b[0m",
      "\u001b[0;31mAttributeError\u001b[0m                            Traceback (most recent call last)",
      "Cell \u001b[0;32mIn[14], line 6\u001b[0m\n\u001b[1;32m      3\u001b[0m captions \u001b[39m=\u001b[39m sample[\u001b[39m\"\u001b[39m\u001b[39mreport\u001b[39m\u001b[39m\"\u001b[39m]\n\u001b[1;32m      5\u001b[0m image \u001b[39m=\u001b[39m image\u001b[39m.\u001b[39munsqueeze(\u001b[39m0\u001b[39m)\u001b[39m.\u001b[39mcuda()\n\u001b[0;32m----> 6\u001b[0m captions \u001b[39m=\u001b[39m captions\u001b[39m.\u001b[39;49munsqueeze(\u001b[39m0\u001b[39m)\u001b[39m.\u001b[39mcuda()\n\u001b[1;32m      9\u001b[0m model\u001b[39m.\u001b[39mmain\u001b[39m.\u001b[39minference(image)[\u001b[39m1\u001b[39m]\u001b[39m.\u001b[39mcpu()\u001b[39m.\u001b[39mdetach()\u001b[39m.\u001b[39mnumpy()[\u001b[39m0\u001b[39m]\n\u001b[1;32m     10\u001b[0m \u001b[39m# model(image)[\"concept_probs\"].cpu().detach().numpy()[0]\u001b[39;00m\n",
      "\u001b[0;31mAttributeError\u001b[0m: 'str' object has no attribute 'unsqueeze'"
     ]
    }
   ],
   "source": [
    "sample = train_set[50]\n",
    "image = sample[\"image\"]\n",
    "captions = sample[\"report\"]\n",
    "\n",
    "image = image.unsqueeze(0).cuda()\n",
    "captions = captions.unsqueeze(0).cuda()\n",
    "\n",
    "\n",
    "model.main.inference(image)[1].cpu().detach().numpy()[0]\n",
    "# model(image)[\"concept_probs\"].cpu().detach().numpy()[0]"
   ]
  },
  {
   "cell_type": "code",
   "execution_count": 13,
   "metadata": {},
   "outputs": [
    {
     "ename": "TypeError",
     "evalue": "LitAutoConceptBottleneckModel.forward() missing 1 required positional argument: 'indices'",
     "output_type": "error",
     "traceback": [
      "\u001b[0;31m---------------------------------------------------------------------------\u001b[0m",
      "\u001b[0;31mTypeError\u001b[0m                                 Traceback (most recent call last)",
      "Cell \u001b[0;32mIn[13], line 1\u001b[0m\n\u001b[0;32m----> 1\u001b[0m model(image)\n",
      "File \u001b[0;32m~/anaconda3/envs/bottleneck/lib/python3.10/site-packages/torch/nn/modules/module.py:1130\u001b[0m, in \u001b[0;36mModule._call_impl\u001b[0;34m(self, *input, **kwargs)\u001b[0m\n\u001b[1;32m   1126\u001b[0m \u001b[39m# If we don't have any hooks, we want to skip the rest of the logic in\u001b[39;00m\n\u001b[1;32m   1127\u001b[0m \u001b[39m# this function, and just call forward.\u001b[39;00m\n\u001b[1;32m   1128\u001b[0m \u001b[39mif\u001b[39;00m \u001b[39mnot\u001b[39;00m (\u001b[39mself\u001b[39m\u001b[39m.\u001b[39m_backward_hooks \u001b[39mor\u001b[39;00m \u001b[39mself\u001b[39m\u001b[39m.\u001b[39m_forward_hooks \u001b[39mor\u001b[39;00m \u001b[39mself\u001b[39m\u001b[39m.\u001b[39m_forward_pre_hooks \u001b[39mor\u001b[39;00m _global_backward_hooks\n\u001b[1;32m   1129\u001b[0m         \u001b[39mor\u001b[39;00m _global_forward_hooks \u001b[39mor\u001b[39;00m _global_forward_pre_hooks):\n\u001b[0;32m-> 1130\u001b[0m     \u001b[39mreturn\u001b[39;00m forward_call(\u001b[39m*\u001b[39;49m\u001b[39minput\u001b[39;49m, \u001b[39m*\u001b[39;49m\u001b[39m*\u001b[39;49mkwargs)\n\u001b[1;32m   1131\u001b[0m \u001b[39m# Do not call functions when jit is used\u001b[39;00m\n\u001b[1;32m   1132\u001b[0m full_backward_hooks, non_full_backward_hooks \u001b[39m=\u001b[39m [], []\n",
      "\u001b[0;31mTypeError\u001b[0m: LitAutoConceptBottleneckModel.forward() missing 1 required positional argument: 'indices'"
     ]
    }
   ],
   "source": [
    "model(image)"
   ]
  },
  {
   "cell_type": "code",
   "execution_count": 6,
   "metadata": {},
   "outputs": [
    {
     "name": "stdout",
     "output_type": "stream",
     "text": [
      "tensor(0.0303, device='cuda:0', grad_fn=<MinBackward1>) tensor(0.2492, device='cuda:0', grad_fn=<MaxBackward1>)\n",
      "Parameter containing:\n",
      "tensor(1.0729, device='cuda:0', requires_grad=True) Parameter containing:\n",
      "tensor(0.3637, device='cuda:0', requires_grad=True)\n"
     ]
    },
    {
     "data": {
      "text/plain": [
       "{'feature_logits': tensor([[ 1.1863, -4.5293,  1.4814, -2.2510, -4.0154,  1.1285,  1.5703, -0.6106,\n",
       "           1.1538, -2.9983]], device='cuda:0', grad_fn=<AddmmBackward0>),\n",
       " 'concept_logits': tensor([[-0.2064, -0.3806, -0.6131, -0.3321,  0.9779, -0.7432, -0.4473,  0.9430,\n",
       "           1.1664, -2.3901]], device='cuda:0', grad_fn=<SqueezeBackward1>),\n",
       " 'feature_probs': tensor([[0.7661, 0.0107, 0.8148, 0.0953, 0.0177, 0.7556, 0.8278, 0.3519, 0.7602,\n",
       "          0.0475]], device='cuda:0', grad_fn=<SigmoidBackward0>),\n",
       " 'concept_probs': tensor([[0.4486, 0.4060, 0.3513, 0.4177, 0.7267, 0.3223, 0.3900, 0.7197, 0.7625,\n",
       "          0.0839]], device='cuda:0', grad_fn=<SigmoidBackward0>),\n",
       " 'feature_activated': tensor([[1., 0., 1., 0., 0., 1., 1., 1., 1., 0.]], device='cuda:0',\n",
       "        grad_fn=<AddBackward0>),\n",
       " 'prediction': tensor([[ 2.4578,  0.1548,  0.3244, -0.5086, -0.1632, -1.1643,  0.1855, -0.4218,\n",
       "          -0.6592]], device='cuda:0', grad_fn=<NativeBatchNormBackward0>),\n",
       " 'scores': tensor([[[1.3821e-07, 2.0446e-01, 1.3821e-07],\n",
       "          [1.6603e-07, 2.3523e-02, 1.5759e-03],\n",
       "          [1.6993e-07, 1.6993e-07, 1.6993e-07],\n",
       "          [1.6993e-07, 1.6993e-07, 1.6993e-07],\n",
       "          [1.2330e-07, 3.0059e-01, 1.2330e-07],\n",
       "          [1.6993e-07, 1.6993e-07, 1.6993e-07],\n",
       "          [1.1819e-07, 1.8580e-01, 1.4782e-01],\n",
       "          [1.6993e-07, 1.6993e-07, 1.6993e-07],\n",
       "          [8.4225e-08, 2.0952e-01, 3.4351e-01],\n",
       "          [1.6975e-07, 1.1226e-03, 1.6975e-07],\n",
       "          [8.4420e-08, 1.5826e-01, 3.9351e-01]]], device='cuda:0',\n",
       "        grad_fn=<SliceBackward0>),\n",
       " 'scores_aux': tensor([[[1.3821e-07, 2.0446e-01, 1.3821e-07, 7.9554e-01],\n",
       "          [1.6603e-07, 2.3523e-02, 1.5759e-03, 9.7490e-01],\n",
       "          [1.6993e-07, 1.6993e-07, 1.6993e-07, 1.0000e+00],\n",
       "          [1.6993e-07, 1.6993e-07, 1.6993e-07, 1.0000e+00],\n",
       "          [1.2330e-07, 3.0059e-01, 1.2330e-07, 6.9941e-01],\n",
       "          [1.6993e-07, 1.6993e-07, 1.6993e-07, 1.0000e+00],\n",
       "          [1.1819e-07, 1.8580e-01, 1.4782e-01, 6.6638e-01],\n",
       "          [1.6993e-07, 1.6993e-07, 1.6993e-07, 1.0000e+00],\n",
       "          [8.4225e-08, 2.0952e-01, 3.4351e-01, 4.4697e-01],\n",
       "          [1.6975e-07, 1.1226e-03, 1.6975e-07, 9.9888e-01],\n",
       "          [8.4420e-08, 1.5826e-01, 3.9351e-01, 4.4823e-01]]], device='cuda:0',\n",
       "        grad_fn=<DivBackward0>),\n",
       " 'prediction_aux': tensor([[-0.6735, -0.5141,  1.0488,  0.1143, -0.0404,  1.7420, -1.2569, -0.5857,\n",
       "           0.3594]], device='cuda:0', grad_fn=<NativeBatchNormBackward0>),\n",
       " 'loss_dist': tensor(-0.1045, device='cuda:0', grad_fn=<MeanBackward0>)}"
      ]
     },
     "execution_count": 6,
     "metadata": {},
     "output_type": "execute_result"
    }
   ],
   "source": [
    "model(image, torch.tensor([[0, 10, 1]]).cuda())"
   ]
  },
  {
   "cell_type": "code",
   "execution_count": 7,
   "metadata": {},
   "outputs": [
    {
     "name": "stderr",
     "output_type": "stream",
     "text": [
      "100%|██████████| 1845/1845 [00:39<00:00, 47.25it/s]\n",
      "100%|██████████| 1845/1845 [00:38<00:00, 47.49it/s]\n",
      "100%|██████████| 1845/1845 [00:38<00:00, 47.58it/s]\n",
      "100%|██████████| 1845/1845 [00:39<00:00, 47.06it/s]\n",
      "100%|██████████| 1845/1845 [00:39<00:00, 46.95it/s]\n",
      "100%|██████████| 1845/1845 [00:39<00:00, 46.42it/s]\n",
      "100%|██████████| 1845/1845 [00:38<00:00, 47.73it/s]\n",
      "100%|██████████| 1845/1845 [00:38<00:00, 47.53it/s]\n",
      "100%|██████████| 1845/1845 [00:39<00:00, 47.11it/s]\n",
      "100%|██████████| 1845/1845 [00:40<00:00, 45.92it/s]"
     ]
    },
    {
     "name": "stdout",
     "output_type": "stream",
     "text": [
      "0.7172063330401222\n"
     ]
    },
    {
     "name": "stderr",
     "output_type": "stream",
     "text": [
      "\n"
     ]
    }
   ],
   "source": [
    "scores = list()\n",
    "\n",
    "for feature_id in range(10):\n",
    "\n",
    "    attribute_values = [[0, 0] for _ in range(len(attribute_mapping[0]))]\n",
    "\n",
    "    for i in tqdm(range(len(train_set))):\n",
    "        sample = train_set[i]\n",
    "        \n",
    "        idx = sample[\"target\"].item()\n",
    "        attributes = np.array(attribute_mapping[idx])\n",
    "\n",
    "        image = sample[\"image\"]\n",
    "        image = image.unsqueeze(0).cuda()\n",
    "\n",
    "        feature = model.main.inference(image)[1].cpu().detach().numpy()[0][feature_id]\n",
    "        # feature = model(image)[\"concept_probs\"].cpu().detach().numpy()[0][feature_id]\n",
    "\n",
    "        for attr_id, attribute in enumerate(attributes):\n",
    "            value_on = attribute * feature + (1 - attribute) * (1 - feature)\n",
    "            attribute_values[attr_id][0] += value_on\n",
    "\n",
    "            value_off = attribute * (1 - feature) + (1 - attribute) * feature\n",
    "            attribute_values[attr_id][1] += value_off\n",
    "    \n",
    "    attribute_values_max = [max(p) for p in attribute_values]\n",
    "    attribute_values_max = max(attribute_values_max)\n",
    "    score = attribute_values_max / len(train_set)\n",
    "\n",
    "    scores.append(score)\n",
    "\n",
    "metric = np.array(scores).mean()\n",
    "\n",
    "print(metric)"
   ]
  },
  {
   "attachments": {},
   "cell_type": "markdown",
   "metadata": {},
   "source": [
    "Baseline: 0.7722590434662505\n",
    "\n",
    "Framework (simplify): 0.7840587777528067\n",
    "\n",
    "Framework: 0.7172063330401222"
   ]
  },
  {
   "attachments": {},
   "cell_type": "markdown",
   "metadata": {},
   "source": [
    "Baseline: 0.7481238945043126 / 0.8002787673469156 / \n",
    "\n",
    "Our framework: 0.733698356318566 / 0.733698356318566 / 0.77456 (w/o textual, anneal)\n"
   ]
  },
  {
   "cell_type": "markdown",
   "metadata": {},
   "source": []
  },
  {
   "cell_type": "code",
   "execution_count": 56,
   "metadata": {},
   "outputs": [
    {
     "data": {
      "text/plain": [
       "([0.8573726896832234,\n",
       "  0.839452540636915,\n",
       "  0.7797192060542814,\n",
       "  0.8681423352541888,\n",
       "  0.8260357244465,\n",
       "  0.8895389913930329,\n",
       "  0.8637059218046688,\n",
       "  0.7592228388927755,\n",
       "  0.797043976947101,\n",
       "  0.7546556928753102],\n",
       " 0.8234889917987998)"
      ]
     },
     "execution_count": 56,
     "metadata": {},
     "output_type": "execute_result"
    }
   ],
   "source": [
    "scores, np.array(scores).mean() # baseline"
   ]
  },
  {
   "cell_type": "code",
   "execution_count": 9,
   "metadata": {},
   "outputs": [
    {
     "data": {
      "text/plain": [
       "[0.7648627196583573,\n",
       " 0.6768948672750362,\n",
       " 0.7658918708248464,\n",
       " 0.9917780249794046,\n",
       " 0.8336742381045732,\n",
       " 0.7635008184147333,\n",
       " 0.7613273321342036,\n",
       " 0.7518359585674752,\n",
       " 0.6415101127414388,\n",
       " 0.7674385555471499]"
      ]
     },
     "execution_count": 9,
     "metadata": {},
     "output_type": "execute_result"
    }
   ],
   "source": [
    "scores # framework"
   ]
  },
  {
   "attachments": {},
   "cell_type": "markdown",
   "metadata": {},
   "source": [
    "tensor([[ 0.0122, -0.0529, -0.0110,  ..., -0.0344, -0.0533,  0.0093],\n",
    "        [ 0.0010,  0.0120,  0.0526,  ..., -0.0378,  0.0056, -0.0115],\n",
    "        [-0.0123,  0.0306,  0.0034,  ..., -0.0043, -0.0447,  0.0298],\n",
    "        ...,\n",
    "        [ 0.0362,  0.0370, -0.0468,  ...,  0.0215,  0.0100,  0.0521],\n",
    "        [ 0.0442,  0.0317, -0.0362,  ...,  0.0499, -0.0278,  0.0430],\n",
    "        [ 0.0372, -0.0121,  0.0365,  ..., -0.0190, -0.0329, -0.0160]],"
   ]
  },
  {
   "attachments": {},
   "cell_type": "markdown",
   "metadata": {},
   "source": [
    "Predictor:  Parameter containing:\n",
    "tensor([[-0.0137, -0.0356,  0.0175,  ..., -0.0315,  0.0064, -0.0237],\n",
    "        [-0.0178,  0.0340,  0.0079,  ...,  0.0032, -0.0259, -0.0187],\n",
    "        [ 0.0283, -0.0175, -0.0104,  ..., -0.0227, -0.0323, -0.0349],\n",
    "        ...,\n",
    "        [-0.0439,  0.0097, -0.0294,  ..., -0.0208,  0.0355,  0.0253],\n",
    "        [-0.0421, -0.0303, -0.0202,  ..., -0.0343,  0.0074,  0.0075],\n",
    "        [ 0.0195,  0.0237, -0.0137,  ..., -0.0427, -0.0188,  0.0273]],"
   ]
  },
  {
   "cell_type": "code",
   "execution_count": 16,
   "metadata": {},
   "outputs": [
    {
     "data": {
      "text/plain": [
       "True"
      ]
     },
     "execution_count": 16,
     "metadata": {},
     "output_type": "execute_result"
    }
   ],
   "source": [
    "import torch\n",
    "\n",
    "\n",
    "isinstance(torch.nn.Linear(10, 5), torch.nn.Linear)"
   ]
  },
  {
   "cell_type": "code",
   "execution_count": null,
   "metadata": {},
   "outputs": [],
   "source": []
  }
 ],
 "metadata": {
  "kernelspec": {
   "display_name": "bottleneck",
   "language": "python",
   "name": "python3"
  },
  "language_info": {
   "codemirror_mode": {
    "name": "ipython",
    "version": 3
   },
   "file_extension": ".py",
   "mimetype": "text/x-python",
   "name": "python",
   "nbconvert_exporter": "python",
   "pygments_lexer": "ipython3",
   "version": "3.10.8"
  },
  "orig_nbformat": 4
 },
 "nbformat": 4,
 "nbformat_minor": 2
}
