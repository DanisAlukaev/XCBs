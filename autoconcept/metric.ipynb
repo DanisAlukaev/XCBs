{
 "cells": [
  {
   "cell_type": "code",
   "execution_count": 1,
   "metadata": {},
   "outputs": [],
   "source": [
    "import os \n",
    "\n",
    "import torch\n",
    "import torch.nn as nn \n",
    "import numpy as np\n",
    "import matplotlib.pyplot as plt\n",
    "\n",
    "from tqdm import tqdm\n",
    "\n",
    "from helpers import load_experiment"
   ]
  },
  {
   "cell_type": "code",
   "execution_count": 9,
   "metadata": {},
   "outputs": [
    {
     "name": "stderr",
     "output_type": "stream",
     "text": [
      "Global seed set to 42\n"
     ]
    },
    {
     "name": "stdout",
     "output_type": "stream",
     "text": [
      "Fetching configuration...\n",
      "Loading datamodule...\n"
     ]
    },
    {
     "name": "stderr",
     "output_type": "stream",
     "text": [
      "/home/danis/anaconda3/envs/bottleneck/lib/python3.10/site-packages/torchtext/data/utils.py:105: UserWarning: Spacy model \"en\" could not be loaded, trying \"en_core_web_sm\" instead\n",
      "  warnings.warn(\n",
      "100%|██████████| 2700/2700 [00:00<00:00, 9638.05it/s]\n"
     ]
    },
    {
     "name": "stdout",
     "output_type": "stream",
     "text": [
      "Len of vocab:  54\n",
      "Max len of caption:  16\n",
      "Index for <pad>: [0]\n",
      "Loading model\n"
     ]
    },
    {
     "name": "stderr",
     "output_type": "stream",
     "text": [
      "/home/danis/anaconda3/envs/bottleneck/lib/python3.10/site-packages/pytorch_lightning/utilities/parsing.py:262: UserWarning: Attribute 'criterion_task' is an instance of `nn.Module` and is already saved during checkpointing. It is recommended to ignore them using `self.save_hyperparameters(ignore=['criterion_task'])`.\n",
      "  rank_zero_warn(\n",
      "/home/danis/anaconda3/envs/bottleneck/lib/python3.10/site-packages/pytorch_lightning/utilities/parsing.py:262: UserWarning: Attribute 'criterion_tie' is an instance of `nn.Module` and is already saved during checkpointing. It is recommended to ignore them using `self.save_hyperparameters(ignore=['criterion_tie'])`.\n",
      "  rank_zero_warn(\n"
     ]
    }
   ],
   "source": [
    "# baseline /home/danis/Projects/AlphaCaption/AutoConceptBottleneck/autoconcept/outputs/2023-05-11/18-14-45\n",
    "# framework /home/danis/Projects/AlphaCaption/AutoConceptBottleneck/autoconcept/outputs/2023-05-11/19-47-58\n",
    "\n",
    "\n",
    "dm, model = load_experiment(\"/home/danis/Projects/AlphaCaption/AutoConceptBottleneck/autoconcept/outputs/2023-05-11/19-47-58\")"
   ]
  },
  {
   "cell_type": "code",
   "execution_count": 10,
   "metadata": {},
   "outputs": [],
   "source": [
    "train_loader = dm.train_dataloader()\n",
    "train_set = train_loader.dataset"
   ]
  },
  {
   "cell_type": "code",
   "execution_count": 11,
   "metadata": {},
   "outputs": [],
   "source": [
    "# [red, green, blue, square, triangle, circle]\n",
    "\n",
    "attribute_mapping = {\n",
    "    0: [1, 0, 0, 1, 0, 0, 1, 0, 0, 0, 0, 0, 0, 0, 0\n",
    "        ],\n",
    "    1: [0, 1, 0, 1, 0, 0, 0, 1, 0, 0, 0, 0, 0, 0, 0\n",
    "        ],\n",
    "    2: [0, 0, 1, 1, 0, 0, 0, 0, 1, 0, 0, 0, 0, 0, 0\n",
    "        ],\n",
    "    3: [1, 0, 0, 0, 1, 0, 0, 0, 0, 1, 0, 0, 0, 0, 0\n",
    "        ],\n",
    "    4: [0, 1, 0, 0, 1, 0, 0, 0, 0, 0, 1, 0, 0, 0, 0\n",
    "        ],\n",
    "    5: [0, 0, 1, 0, 1, 0, 0, 0, 0, 0, 0, 1, 0, 0, 0\n",
    "        ],\n",
    "    6: [1, 0, 0, 0, 0, 1, 0, 0, 0, 0, 0, 0, 1, 0, 0\n",
    "        ],\n",
    "    7: [0, 1, 0, 0, 0, 1, 0, 0, 0, 0, 0, 0, 0, 1, 0\n",
    "        ],\n",
    "    8: [0, 0, 1, 0, 0, 1, 0, 0, 0, 0, 0, 0, 0, 0, 1\n",
    "        ],\n",
    "}"
   ]
  },
  {
   "cell_type": "code",
   "execution_count": 13,
   "metadata": {},
   "outputs": [
    {
     "data": {
      "text/plain": [
       "array([9.9804342e-01, 4.7186921e-05, 9.9712926e-01, 3.9565063e-04,\n",
       "       1.3690232e-05, 9.9684083e-01, 9.9863881e-01, 9.6707660e-01,\n",
       "       9.6945536e-01, 9.4626157e-05], dtype=float32)"
      ]
     },
     "execution_count": 13,
     "metadata": {},
     "output_type": "execute_result"
    }
   ],
   "source": [
    "sample = train_set[50]\n",
    "image = sample[\"image\"]\n",
    "\n",
    "image = image.unsqueeze(0).cuda()\n",
    "\n",
    "\n",
    "model.main.inference(image)[1].cpu().detach().numpy()[0]\n",
    "# model(image)[\"concept_probs\"].cpu().detach().numpy()[0]"
   ]
  },
  {
   "cell_type": "code",
   "execution_count": 13,
   "metadata": {},
   "outputs": [
    {
     "ename": "TypeError",
     "evalue": "LitAutoConceptBottleneckModel.forward() missing 1 required positional argument: 'indices'",
     "output_type": "error",
     "traceback": [
      "\u001b[0;31m---------------------------------------------------------------------------\u001b[0m",
      "\u001b[0;31mTypeError\u001b[0m                                 Traceback (most recent call last)",
      "Cell \u001b[0;32mIn[13], line 1\u001b[0m\n\u001b[0;32m----> 1\u001b[0m model(image)\n",
      "File \u001b[0;32m~/anaconda3/envs/bottleneck/lib/python3.10/site-packages/torch/nn/modules/module.py:1130\u001b[0m, in \u001b[0;36mModule._call_impl\u001b[0;34m(self, *input, **kwargs)\u001b[0m\n\u001b[1;32m   1126\u001b[0m \u001b[39m# If we don't have any hooks, we want to skip the rest of the logic in\u001b[39;00m\n\u001b[1;32m   1127\u001b[0m \u001b[39m# this function, and just call forward.\u001b[39;00m\n\u001b[1;32m   1128\u001b[0m \u001b[39mif\u001b[39;00m \u001b[39mnot\u001b[39;00m (\u001b[39mself\u001b[39m\u001b[39m.\u001b[39m_backward_hooks \u001b[39mor\u001b[39;00m \u001b[39mself\u001b[39m\u001b[39m.\u001b[39m_forward_hooks \u001b[39mor\u001b[39;00m \u001b[39mself\u001b[39m\u001b[39m.\u001b[39m_forward_pre_hooks \u001b[39mor\u001b[39;00m _global_backward_hooks\n\u001b[1;32m   1129\u001b[0m         \u001b[39mor\u001b[39;00m _global_forward_hooks \u001b[39mor\u001b[39;00m _global_forward_pre_hooks):\n\u001b[0;32m-> 1130\u001b[0m     \u001b[39mreturn\u001b[39;00m forward_call(\u001b[39m*\u001b[39;49m\u001b[39minput\u001b[39;49m, \u001b[39m*\u001b[39;49m\u001b[39m*\u001b[39;49mkwargs)\n\u001b[1;32m   1131\u001b[0m \u001b[39m# Do not call functions when jit is used\u001b[39;00m\n\u001b[1;32m   1132\u001b[0m full_backward_hooks, non_full_backward_hooks \u001b[39m=\u001b[39m [], []\n",
      "\u001b[0;31mTypeError\u001b[0m: LitAutoConceptBottleneckModel.forward() missing 1 required positional argument: 'indices'"
     ]
    }
   ],
   "source": [
    "model(image)"
   ]
  },
  {
   "cell_type": "code",
   "execution_count": 12,
   "metadata": {},
   "outputs": [
    {
     "data": {
      "text/plain": [
       "{'feature_logits': tensor([[  4.3458,   5.8428,   8.8582,   8.2145, -14.4703,  -7.2760,   6.2475,\n",
       "           -8.1794,   5.8259,   6.3342]], device='cuda:0',\n",
       "        grad_fn=<AddmmBackward0>),\n",
       " 'feature_probs': tensor([[9.8720e-01, 9.9711e-01, 9.9986e-01, 9.9973e-01, 5.1956e-07, 6.9146e-04,\n",
       "          9.9807e-01, 2.8029e-04, 9.9706e-01, 9.9823e-01]], device='cuda:0',\n",
       "        grad_fn=<SigmoidBackward0>),\n",
       " 'feature_activated': tensor([[1., 1., 1., 1., 0., 0., 1., 0., 1., 1.]], device='cuda:0',\n",
       "        grad_fn=<AddBackward0>),\n",
       " 'prediction': tensor([[ 3.0633, -0.6596, -0.2949,  0.0044, -0.3722, -0.4236, -0.4282, -0.2316,\n",
       "          -0.3738]], device='cuda:0', grad_fn=<NativeBatchNormBackward0>)}"
      ]
     },
     "execution_count": 12,
     "metadata": {},
     "output_type": "execute_result"
    }
   ],
   "source": [
    "model(image, torch.tensor([[0, 10, 1]]).cuda())"
   ]
  },
  {
   "cell_type": "code",
   "execution_count": 14,
   "metadata": {},
   "outputs": [
    {
     "name": "stderr",
     "output_type": "stream",
     "text": [
      "100%|██████████| 1845/1845 [00:42<00:00, 43.38it/s]\n",
      "100%|██████████| 1845/1845 [00:42<00:00, 43.32it/s]\n",
      "100%|██████████| 1845/1845 [00:42<00:00, 43.31it/s]\n",
      "100%|██████████| 1845/1845 [00:42<00:00, 43.11it/s]\n",
      "100%|██████████| 1845/1845 [00:43<00:00, 42.71it/s]\n",
      "100%|██████████| 1845/1845 [00:43<00:00, 42.78it/s]\n",
      "100%|██████████| 1845/1845 [00:43<00:00, 42.81it/s]\n",
      "100%|██████████| 1845/1845 [00:43<00:00, 42.88it/s]\n",
      "100%|██████████| 1845/1845 [00:42<00:00, 43.16it/s]\n",
      "100%|██████████| 1845/1845 [00:42<00:00, 43.35it/s]"
     ]
    },
    {
     "name": "stdout",
     "output_type": "stream",
     "text": [
      "0.7840587777528067\n"
     ]
    },
    {
     "name": "stderr",
     "output_type": "stream",
     "text": [
      "\n"
     ]
    }
   ],
   "source": [
    "scores = list()\n",
    "\n",
    "for feature_id in range(10):\n",
    "\n",
    "    attribute_values = [[0, 0] for _ in range(len(attribute_mapping[0]))]\n",
    "\n",
    "    for i in tqdm(range(len(train_set))):\n",
    "        sample = train_set[i]\n",
    "        \n",
    "        idx = sample[\"target\"].item()\n",
    "        attributes = np.array(attribute_mapping[idx])\n",
    "\n",
    "        image = sample[\"image\"]\n",
    "        image = image.unsqueeze(0).cuda()\n",
    "\n",
    "        feature = model.main.inference(image)[1].cpu().detach().numpy()[0][feature_id]\n",
    "        # feature = model(image)[\"concept_probs\"].cpu().detach().numpy()[0][feature_id]\n",
    "\n",
    "        for attr_id, attribute in enumerate(attributes):\n",
    "            value_on = attribute * feature + (1 - attribute) * (1 - feature)\n",
    "            attribute_values[attr_id][0] += value_on\n",
    "\n",
    "            value_off = attribute * (1 - feature) + (1 - attribute) * feature\n",
    "            attribute_values[attr_id][1] += value_off\n",
    "    \n",
    "    attribute_values_max = [max(p) for p in attribute_values]\n",
    "    attribute_values_max = max(attribute_values_max)\n",
    "    score = attribute_values_max / len(train_set)\n",
    "\n",
    "    scores.append(score)\n",
    "\n",
    "metric = np.array(scores).mean()\n",
    "\n",
    "print(metric)"
   ]
  },
  {
   "attachments": {},
   "cell_type": "markdown",
   "metadata": {},
   "source": [
    "Baseline: 0.7722590434662505\n",
    "\n",
    "Framework: 0.7840587777528067"
   ]
  },
  {
   "attachments": {},
   "cell_type": "markdown",
   "metadata": {},
   "source": [
    "Baseline: 0.7481238945043126 / 0.8002787673469156 / \n",
    "\n",
    "Our framework: 0.733698356318566 / 0.733698356318566 / 0.77456 (w/o textual, anneal)\n"
   ]
  },
  {
   "cell_type": "markdown",
   "metadata": {},
   "source": []
  },
  {
   "cell_type": "code",
   "execution_count": 56,
   "metadata": {},
   "outputs": [
    {
     "data": {
      "text/plain": [
       "([0.8573726896832234,\n",
       "  0.839452540636915,\n",
       "  0.7797192060542814,\n",
       "  0.8681423352541888,\n",
       "  0.8260357244465,\n",
       "  0.8895389913930329,\n",
       "  0.8637059218046688,\n",
       "  0.7592228388927755,\n",
       "  0.797043976947101,\n",
       "  0.7546556928753102],\n",
       " 0.8234889917987998)"
      ]
     },
     "execution_count": 56,
     "metadata": {},
     "output_type": "execute_result"
    }
   ],
   "source": [
    "scores, np.array(scores).mean() # baseline"
   ]
  },
  {
   "cell_type": "code",
   "execution_count": 9,
   "metadata": {},
   "outputs": [
    {
     "data": {
      "text/plain": [
       "[0.7648627196583573,\n",
       " 0.6768948672750362,\n",
       " 0.7658918708248464,\n",
       " 0.9917780249794046,\n",
       " 0.8336742381045732,\n",
       " 0.7635008184147333,\n",
       " 0.7613273321342036,\n",
       " 0.7518359585674752,\n",
       " 0.6415101127414388,\n",
       " 0.7674385555471499]"
      ]
     },
     "execution_count": 9,
     "metadata": {},
     "output_type": "execute_result"
    }
   ],
   "source": [
    "scores # framework"
   ]
  },
  {
   "attachments": {},
   "cell_type": "markdown",
   "metadata": {},
   "source": [
    "tensor([[ 0.0122, -0.0529, -0.0110,  ..., -0.0344, -0.0533,  0.0093],\n",
    "        [ 0.0010,  0.0120,  0.0526,  ..., -0.0378,  0.0056, -0.0115],\n",
    "        [-0.0123,  0.0306,  0.0034,  ..., -0.0043, -0.0447,  0.0298],\n",
    "        ...,\n",
    "        [ 0.0362,  0.0370, -0.0468,  ...,  0.0215,  0.0100,  0.0521],\n",
    "        [ 0.0442,  0.0317, -0.0362,  ...,  0.0499, -0.0278,  0.0430],\n",
    "        [ 0.0372, -0.0121,  0.0365,  ..., -0.0190, -0.0329, -0.0160]],"
   ]
  },
  {
   "attachments": {},
   "cell_type": "markdown",
   "metadata": {},
   "source": [
    "Predictor:  Parameter containing:\n",
    "tensor([[-0.0137, -0.0356,  0.0175,  ..., -0.0315,  0.0064, -0.0237],\n",
    "        [-0.0178,  0.0340,  0.0079,  ...,  0.0032, -0.0259, -0.0187],\n",
    "        [ 0.0283, -0.0175, -0.0104,  ..., -0.0227, -0.0323, -0.0349],\n",
    "        ...,\n",
    "        [-0.0439,  0.0097, -0.0294,  ..., -0.0208,  0.0355,  0.0253],\n",
    "        [-0.0421, -0.0303, -0.0202,  ..., -0.0343,  0.0074,  0.0075],\n",
    "        [ 0.0195,  0.0237, -0.0137,  ..., -0.0427, -0.0188,  0.0273]],"
   ]
  },
  {
   "cell_type": "code",
   "execution_count": 16,
   "metadata": {},
   "outputs": [
    {
     "data": {
      "text/plain": [
       "True"
      ]
     },
     "execution_count": 16,
     "metadata": {},
     "output_type": "execute_result"
    }
   ],
   "source": [
    "import torch\n",
    "\n",
    "\n",
    "isinstance(torch.nn.Linear(10, 5), torch.nn.Linear)"
   ]
  },
  {
   "cell_type": "code",
   "execution_count": null,
   "metadata": {},
   "outputs": [],
   "source": []
  }
 ],
 "metadata": {
  "kernelspec": {
   "display_name": "bottleneck",
   "language": "python",
   "name": "python3"
  },
  "language_info": {
   "codemirror_mode": {
    "name": "ipython",
    "version": 3
   },
   "file_extension": ".py",
   "mimetype": "text/x-python",
   "name": "python",
   "nbconvert_exporter": "python",
   "pygments_lexer": "ipython3",
   "version": "3.10.8"
  },
  "orig_nbformat": 4
 },
 "nbformat": 4,
 "nbformat_minor": 2
}
