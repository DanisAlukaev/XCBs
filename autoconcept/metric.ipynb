{
 "cells": [
  {
   "cell_type": "code",
   "execution_count": 1,
   "metadata": {},
   "outputs": [],
   "source": [
    "import os \n",
    "\n",
    "import torch\n",
    "import torch.nn as nn \n",
    "import numpy as np\n",
    "import matplotlib.pyplot as plt\n",
    "\n",
    "from tqdm import tqdm\n",
    "\n",
    "from helpers import load_experiment"
   ]
  },
  {
   "cell_type": "code",
   "execution_count": 2,
   "metadata": {},
   "outputs": [
    {
     "name": "stdout",
     "output_type": "stream",
     "text": [
      "Fetching configuration...\n",
      "Loading datamodule...\n"
     ]
    },
    {
     "name": "stderr",
     "output_type": "stream",
     "text": [
      "[nltk_data] Downloading package wordnet to /home/danis/nltk_data...\n",
      "[nltk_data]   Package wordnet is already up-to-date!\n",
      "Warning : `load_model` does not return WordVectorModel or SupervisedModel any more, but a `FastText` object which is very similar.\n",
      "/home/danis/anaconda3/envs/bottleneck/lib/python3.10/site-packages/torchtext/data/utils.py:105: UserWarning: Spacy model \"en\" could not be loaded, trying \"en_core_web_sm\" instead\n",
      "  warnings.warn(\n",
      "100%|██████████| 2700/2700 [00:00<00:00, 9296.29it/s]\n"
     ]
    },
    {
     "name": "stdout",
     "output_type": "stream",
     "text": [
      "Len of vocab:  54\n",
      "Max len of caption:  16\n",
      "Index for <pad>: [0]\n",
      "Loading model\n"
     ]
    },
    {
     "name": "stderr",
     "output_type": "stream",
     "text": [
      "/home/danis/anaconda3/envs/bottleneck/lib/python3.10/site-packages/pytorch_lightning/utilities/parsing.py:262: UserWarning: Attribute 'criterion' is an instance of `nn.Module` and is already saved during checkpointing. It is recommended to ignore them using `self.save_hyperparameters(ignore=['criterion'])`.\n",
      "  rank_zero_warn(\n"
     ]
    }
   ],
   "source": [
    "dm, model = load_experiment(\"/home/danis/Projects/AlphaCaption/AutoConceptBottleneck/autoconcept/outputs/2023-05-03/04-28-27\")"
   ]
  },
  {
   "cell_type": "code",
   "execution_count": 3,
   "metadata": {},
   "outputs": [],
   "source": [
    "train_loader = dm.train_dataloader()\n",
    "train_set = train_loader.dataset"
   ]
  },
  {
   "cell_type": "code",
   "execution_count": 4,
   "metadata": {},
   "outputs": [],
   "source": [
    "# [red, green, blue, square, triangle, circle]\n",
    "\n",
    "attribute_mapping = {\n",
    "    0: [1, 0, 0, 1, 0, 0],\n",
    "    1: [0, 1, 0, 1, 0, 0],\n",
    "    2: [0, 0, 1, 1, 0, 0],\n",
    "    3: [1, 0, 0, 0, 1, 0],\n",
    "    4: [0, 1, 0, 0, 1, 0],\n",
    "    5: [0, 0, 1, 0, 1, 0],\n",
    "    6: [1, 0, 0, 0, 0, 1],\n",
    "    7: [0, 1, 0, 0, 0, 1],\n",
    "    8: [0, 0, 1, 0, 0, 1],\n",
    "}"
   ]
  },
  {
   "cell_type": "code",
   "execution_count": 5,
   "metadata": {},
   "outputs": [
    {
     "data": {
      "text/plain": [
       "array([9.6661901e-01, 1.0824219e-03, 9.7497445e-01, 1.6028344e-03,\n",
       "       4.6688497e-01, 1.1660659e-04, 4.3211441e-04, 2.2364438e-03,\n",
       "       9.7832537e-01, 5.0284335e-04], dtype=float32)"
      ]
     },
     "execution_count": 5,
     "metadata": {},
     "output_type": "execute_result"
    }
   ],
   "source": [
    "sample = train_set[0]\n",
    "image = sample[\"image\"]\n",
    "\n",
    "image = image.unsqueeze(0).cuda()\n",
    "\n",
    "\n",
    "model(image)[\"concept_probs\"].cpu().detach().numpy()[0]"
   ]
  },
  {
   "cell_type": "code",
   "execution_count": 11,
   "metadata": {},
   "outputs": [
    {
     "name": "stderr",
     "output_type": "stream",
     "text": [
      "100%|██████████| 1845/1845 [00:34<00:00, 53.66it/s]\n",
      "100%|██████████| 1845/1845 [00:33<00:00, 54.70it/s]\n",
      "100%|██████████| 1845/1845 [00:33<00:00, 54.44it/s]\n",
      "100%|██████████| 1845/1845 [00:33<00:00, 54.41it/s]\n",
      "100%|██████████| 1845/1845 [00:34<00:00, 53.80it/s]\n",
      "100%|██████████| 1845/1845 [00:35<00:00, 51.45it/s]\n",
      "100%|██████████| 1845/1845 [00:35<00:00, 51.60it/s]\n",
      "100%|██████████| 1845/1845 [00:36<00:00, 50.84it/s]\n",
      "100%|██████████| 1845/1845 [00:42<00:00, 43.24it/s]\n",
      "100%|██████████| 1845/1845 [00:42<00:00, 43.16it/s]\n",
      "100%|██████████| 10/10 [06:03<00:00, 36.36s/it]"
     ]
    },
    {
     "name": "stdout",
     "output_type": "stream",
     "text": [
      "0.7302641155520837\n"
     ]
    },
    {
     "name": "stderr",
     "output_type": "stream",
     "text": [
      "\n"
     ]
    }
   ],
   "source": [
    "scores = list()\n",
    "\n",
    "for feature_id in tqdm(range(10)):\n",
    "\n",
    "    attribute_values = [[0, 0] for _ in range(6)]\n",
    "\n",
    "    for i in tqdm(range(len(train_set))):\n",
    "        sample = train_set[i]\n",
    "        \n",
    "        idx = sample[\"target\"].item()\n",
    "        attributes = np.array(attribute_mapping[idx])\n",
    "\n",
    "        image = sample[\"image\"]\n",
    "        image = image.unsqueeze(0).cuda()\n",
    "\n",
    "        feature = model(image)[\"concept_probs\"].cpu().detach().numpy()[0][feature_id]\n",
    "\n",
    "        for attr_id, attribute in enumerate(attributes):\n",
    "            value_on = attribute * feature + (1 - attribute) * (1 - feature)\n",
    "            attribute_values[attr_id][0] += value_on\n",
    "\n",
    "            value_off = attribute * (1 - feature) + (1 - attribute) * feature\n",
    "            attribute_values[attr_id][1] += value_off\n",
    "    \n",
    "    attribute_values_max = [max(p) for p in attribute_values]\n",
    "    attribute_values_max = max(attribute_values_max)\n",
    "    score = attribute_values_max / len(train_set)\n",
    "\n",
    "    scores.append(score)\n",
    "\n",
    "metric = np.array(score).mean()\n",
    "\n",
    "print(metric)\n"
   ]
  },
  {
   "cell_type": "code",
   "execution_count": 12,
   "metadata": {},
   "outputs": [
    {
     "data": {
      "text/plain": [
       "0.7302641155520837"
      ]
     },
     "execution_count": 12,
     "metadata": {},
     "output_type": "execute_result"
    }
   ],
   "source": [
    "metric"
   ]
  }
 ],
 "metadata": {
  "kernelspec": {
   "display_name": "bottleneck",
   "language": "python",
   "name": "python3"
  },
  "language_info": {
   "codemirror_mode": {
    "name": "ipython",
    "version": 3
   },
   "file_extension": ".py",
   "mimetype": "text/x-python",
   "name": "python",
   "nbconvert_exporter": "python",
   "pygments_lexer": "ipython3",
   "version": "3.10.8"
  },
  "orig_nbformat": 4
 },
 "nbformat": 4,
 "nbformat_minor": 2
}
