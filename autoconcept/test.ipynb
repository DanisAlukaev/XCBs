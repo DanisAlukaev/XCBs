{
 "cells": [
  {
   "cell_type": "code",
   "execution_count": 1,
   "metadata": {},
   "outputs": [],
   "source": [
    "import torchxrayvision as xrv"
   ]
  },
  {
   "cell_type": "code",
   "execution_count": 2,
   "metadata": {},
   "outputs": [],
   "source": [
    "model = xrv.models.DenseNet(weights=\"densenet121-res224-all\")"
   ]
  },
  {
   "cell_type": "code",
   "execution_count": 1,
   "metadata": {},
   "outputs": [
    {
     "name": "stderr",
     "output_type": "stream",
     "text": [
      "[nltk_data] Downloading package wordnet to /home/danis/nltk_data...\n",
      "[nltk_data]   Package wordnet is already up-to-date!\n",
      "Warning : `load_model` does not return WordVectorModel or SupervisedModel any more, but a `FastText` object which is very similar.\n"
     ]
    }
   ],
   "source": [
    "from datasets.mimic_dataset import MimicDataModule\n",
    "from datasets.utils import VocabularyMimic\n",
    "from datasets.collators import CollateIndices\n",
    "\n",
    "import torchxrayvision as xrv"
   ]
  },
  {
   "cell_type": "code",
   "execution_count": 2,
   "metadata": {},
   "outputs": [
    {
     "name": "stderr",
     "output_type": "stream",
     "text": [
      "100%|██████████| 15000/15000 [00:04<00:00, 3169.57it/s]\n"
     ]
    },
    {
     "name": "stdout",
     "output_type": "stream",
     "text": [
      "Len of vocab:  8651\n",
      "Max len of caption:  378\n",
      "Index for <pad>: [0]\n"
     ]
    }
   ],
   "source": [
    "annotation_path = \"/home/danis/Projects/AlphaCaption/AutoConceptBottleneck/data/mimic-cxr/annotation.csv\"\n",
    "img_dir = \"/home/danis/Projects/AlphaCaption/AutoConceptBottleneck/data/mimic-cxr/images\"\n",
    "\n",
    "vocab = VocabularyMimic(annotation_path=annotation_path)\n",
    "collate_fn = CollateIndices(vocabulary=vocab)\n",
    "\n",
    "dm = MimicDataModule(\n",
    "    img_size=299,\n",
    "    annotation_path=annotation_path,\n",
    "    img_dir=img_dir,\n",
    "    collate_fn=collate_fn\n",
    ")\n",
    "\n",
    "dm.setup()\n",
    "\n",
    "training_data = dm.train_dataloader()"
   ]
  },
  {
   "cell_type": "code",
   "execution_count": 3,
   "metadata": {},
   "outputs": [],
   "source": [
    "n_pathologies = 0\n",
    "for i in range(len(training_data.dataset)):\n",
    "    sample = training_data.dataset[i]\n",
    "    target = sample[\"target\"]\n",
    "    n_pathologies += target"
   ]
  },
  {
   "cell_type": "code",
   "execution_count": 4,
   "metadata": {},
   "outputs": [
    {
     "data": {
      "text/plain": [
       "tensor(0.5000)"
      ]
     },
     "execution_count": 4,
     "metadata": {},
     "output_type": "execute_result"
    }
   ],
   "source": [
    "n_pathologies / len(training_data.dataset)"
   ]
  },
  {
   "cell_type": "code",
   "execution_count": 5,
   "metadata": {},
   "outputs": [],
   "source": [
    "import torchvision\n",
    "transform = torchvision.transforms.Grayscale(num_output_channels=1)"
   ]
  },
  {
   "cell_type": "code",
   "execution_count": 6,
   "metadata": {},
   "outputs": [],
   "source": [
    "test_data = dm.test_dataloader()"
   ]
  },
  {
   "cell_type": "code",
   "execution_count": 9,
   "metadata": {},
   "outputs": [
    {
     "name": "stdout",
     "output_type": "stream",
     "text": [
      "Warning: Input size (299x299) is not the native resolution (224x224) for this model. A resize will be performed but this could impact performance.\n",
      "Warning: Input image does not appear to be normalized correctly. The input image has the range [-2.03,2.40] which doesn't seem to be in the [-1024,1024] range. This warning may be wrong though. Only the first image is tested and we are only using a heuristic in an attempt to save a user from using the wrong normalization.\n"
     ]
    },
    {
     "ename": "KeyboardInterrupt",
     "evalue": "",
     "output_type": "error",
     "traceback": [
      "\u001b[0;31m---------------------------------------------------------------------------\u001b[0m",
      "\u001b[0;31mKeyboardInterrupt\u001b[0m                         Traceback (most recent call last)",
      "Cell \u001b[0;32mIn[9], line 6\u001b[0m\n\u001b[1;32m      3\u001b[0m \u001b[39mfor\u001b[39;00m batch \u001b[39min\u001b[39;00m training_data:\n\u001b[1;32m      4\u001b[0m     images, targets  \u001b[39m=\u001b[39m transform(batch[\u001b[39m\"\u001b[39m\u001b[39mimage\u001b[39m\u001b[39m\"\u001b[39m]), batch[\u001b[39m\"\u001b[39m\u001b[39mtarget\u001b[39m\u001b[39m\"\u001b[39m]\n\u001b[0;32m----> 6\u001b[0m     pred \u001b[39m=\u001b[39m model(images)\n\u001b[1;32m      7\u001b[0m     pred \u001b[39m=\u001b[39m pred \u001b[39m>\u001b[39m \u001b[39m0.5\u001b[39m\n\u001b[1;32m      8\u001b[0m     pred \u001b[39m=\u001b[39m pred\u001b[39m.\u001b[39msum(dim\u001b[39m=\u001b[39m\u001b[39m1\u001b[39m)\n",
      "File \u001b[0;32m~/anaconda3/envs/bottleneck/lib/python3.10/site-packages/torch/nn/modules/module.py:1130\u001b[0m, in \u001b[0;36mModule._call_impl\u001b[0;34m(self, *input, **kwargs)\u001b[0m\n\u001b[1;32m   1126\u001b[0m \u001b[39m# If we don't have any hooks, we want to skip the rest of the logic in\u001b[39;00m\n\u001b[1;32m   1127\u001b[0m \u001b[39m# this function, and just call forward.\u001b[39;00m\n\u001b[1;32m   1128\u001b[0m \u001b[39mif\u001b[39;00m \u001b[39mnot\u001b[39;00m (\u001b[39mself\u001b[39m\u001b[39m.\u001b[39m_backward_hooks \u001b[39mor\u001b[39;00m \u001b[39mself\u001b[39m\u001b[39m.\u001b[39m_forward_hooks \u001b[39mor\u001b[39;00m \u001b[39mself\u001b[39m\u001b[39m.\u001b[39m_forward_pre_hooks \u001b[39mor\u001b[39;00m _global_backward_hooks\n\u001b[1;32m   1129\u001b[0m         \u001b[39mor\u001b[39;00m _global_forward_hooks \u001b[39mor\u001b[39;00m _global_forward_pre_hooks):\n\u001b[0;32m-> 1130\u001b[0m     \u001b[39mreturn\u001b[39;00m forward_call(\u001b[39m*\u001b[39;49m\u001b[39minput\u001b[39;49m, \u001b[39m*\u001b[39;49m\u001b[39m*\u001b[39;49mkwargs)\n\u001b[1;32m   1131\u001b[0m \u001b[39m# Do not call functions when jit is used\u001b[39;00m\n\u001b[1;32m   1132\u001b[0m full_backward_hooks, non_full_backward_hooks \u001b[39m=\u001b[39m [], []\n",
      "File \u001b[0;32m~/anaconda3/envs/bottleneck/lib/python3.10/site-packages/torchxrayvision/models.py:330\u001b[0m, in \u001b[0;36mDenseNet.forward\u001b[0;34m(self, x)\u001b[0m\n\u001b[1;32m    327\u001b[0m \u001b[39mdef\u001b[39;00m \u001b[39mforward\u001b[39m(\u001b[39mself\u001b[39m, x):\n\u001b[1;32m    328\u001b[0m     x \u001b[39m=\u001b[39m fix_resolution(x, \u001b[39m224\u001b[39m, \u001b[39mself\u001b[39m)\n\u001b[0;32m--> 330\u001b[0m     features \u001b[39m=\u001b[39m \u001b[39mself\u001b[39;49m\u001b[39m.\u001b[39;49mfeatures2(x)\n\u001b[1;32m    331\u001b[0m     out \u001b[39m=\u001b[39m \u001b[39mself\u001b[39m\u001b[39m.\u001b[39mclassifier(features)\n\u001b[1;32m    333\u001b[0m     \u001b[39mif\u001b[39;00m \u001b[39mhasattr\u001b[39m(\u001b[39mself\u001b[39m, \u001b[39m'\u001b[39m\u001b[39mapply_sigmoid\u001b[39m\u001b[39m'\u001b[39m) \u001b[39mand\u001b[39;00m \u001b[39mself\u001b[39m\u001b[39m.\u001b[39mapply_sigmoid:\n",
      "File \u001b[0;32m~/anaconda3/envs/bottleneck/lib/python3.10/site-packages/torchxrayvision/models.py:322\u001b[0m, in \u001b[0;36mDenseNet.features2\u001b[0;34m(self, x)\u001b[0m\n\u001b[1;32m    319\u001b[0m x \u001b[39m=\u001b[39m fix_resolution(x, \u001b[39m224\u001b[39m, \u001b[39mself\u001b[39m)\n\u001b[1;32m    320\u001b[0m warn_normalization(x)\n\u001b[0;32m--> 322\u001b[0m features \u001b[39m=\u001b[39m \u001b[39mself\u001b[39;49m\u001b[39m.\u001b[39;49mfeatures(x)\n\u001b[1;32m    323\u001b[0m out \u001b[39m=\u001b[39m F\u001b[39m.\u001b[39mrelu(features, inplace\u001b[39m=\u001b[39m\u001b[39mTrue\u001b[39;00m)\n\u001b[1;32m    324\u001b[0m out \u001b[39m=\u001b[39m F\u001b[39m.\u001b[39madaptive_avg_pool2d(out, (\u001b[39m1\u001b[39m, \u001b[39m1\u001b[39m))\u001b[39m.\u001b[39mview(features\u001b[39m.\u001b[39msize(\u001b[39m0\u001b[39m), \u001b[39m-\u001b[39m\u001b[39m1\u001b[39m)\n",
      "File \u001b[0;32m~/anaconda3/envs/bottleneck/lib/python3.10/site-packages/torch/nn/modules/module.py:1130\u001b[0m, in \u001b[0;36mModule._call_impl\u001b[0;34m(self, *input, **kwargs)\u001b[0m\n\u001b[1;32m   1126\u001b[0m \u001b[39m# If we don't have any hooks, we want to skip the rest of the logic in\u001b[39;00m\n\u001b[1;32m   1127\u001b[0m \u001b[39m# this function, and just call forward.\u001b[39;00m\n\u001b[1;32m   1128\u001b[0m \u001b[39mif\u001b[39;00m \u001b[39mnot\u001b[39;00m (\u001b[39mself\u001b[39m\u001b[39m.\u001b[39m_backward_hooks \u001b[39mor\u001b[39;00m \u001b[39mself\u001b[39m\u001b[39m.\u001b[39m_forward_hooks \u001b[39mor\u001b[39;00m \u001b[39mself\u001b[39m\u001b[39m.\u001b[39m_forward_pre_hooks \u001b[39mor\u001b[39;00m _global_backward_hooks\n\u001b[1;32m   1129\u001b[0m         \u001b[39mor\u001b[39;00m _global_forward_hooks \u001b[39mor\u001b[39;00m _global_forward_pre_hooks):\n\u001b[0;32m-> 1130\u001b[0m     \u001b[39mreturn\u001b[39;00m forward_call(\u001b[39m*\u001b[39;49m\u001b[39minput\u001b[39;49m, \u001b[39m*\u001b[39;49m\u001b[39m*\u001b[39;49mkwargs)\n\u001b[1;32m   1131\u001b[0m \u001b[39m# Do not call functions when jit is used\u001b[39;00m\n\u001b[1;32m   1132\u001b[0m full_backward_hooks, non_full_backward_hooks \u001b[39m=\u001b[39m [], []\n",
      "File \u001b[0;32m~/anaconda3/envs/bottleneck/lib/python3.10/site-packages/torch/nn/modules/container.py:139\u001b[0m, in \u001b[0;36mSequential.forward\u001b[0;34m(self, input)\u001b[0m\n\u001b[1;32m    137\u001b[0m \u001b[39mdef\u001b[39;00m \u001b[39mforward\u001b[39m(\u001b[39mself\u001b[39m, \u001b[39minput\u001b[39m):\n\u001b[1;32m    138\u001b[0m     \u001b[39mfor\u001b[39;00m module \u001b[39min\u001b[39;00m \u001b[39mself\u001b[39m:\n\u001b[0;32m--> 139\u001b[0m         \u001b[39minput\u001b[39m \u001b[39m=\u001b[39m module(\u001b[39minput\u001b[39;49m)\n\u001b[1;32m    140\u001b[0m     \u001b[39mreturn\u001b[39;00m \u001b[39minput\u001b[39m\n",
      "File \u001b[0;32m~/anaconda3/envs/bottleneck/lib/python3.10/site-packages/torch/nn/modules/module.py:1130\u001b[0m, in \u001b[0;36mModule._call_impl\u001b[0;34m(self, *input, **kwargs)\u001b[0m\n\u001b[1;32m   1126\u001b[0m \u001b[39m# If we don't have any hooks, we want to skip the rest of the logic in\u001b[39;00m\n\u001b[1;32m   1127\u001b[0m \u001b[39m# this function, and just call forward.\u001b[39;00m\n\u001b[1;32m   1128\u001b[0m \u001b[39mif\u001b[39;00m \u001b[39mnot\u001b[39;00m (\u001b[39mself\u001b[39m\u001b[39m.\u001b[39m_backward_hooks \u001b[39mor\u001b[39;00m \u001b[39mself\u001b[39m\u001b[39m.\u001b[39m_forward_hooks \u001b[39mor\u001b[39;00m \u001b[39mself\u001b[39m\u001b[39m.\u001b[39m_forward_pre_hooks \u001b[39mor\u001b[39;00m _global_backward_hooks\n\u001b[1;32m   1129\u001b[0m         \u001b[39mor\u001b[39;00m _global_forward_hooks \u001b[39mor\u001b[39;00m _global_forward_pre_hooks):\n\u001b[0;32m-> 1130\u001b[0m     \u001b[39mreturn\u001b[39;00m forward_call(\u001b[39m*\u001b[39;49m\u001b[39minput\u001b[39;49m, \u001b[39m*\u001b[39;49m\u001b[39m*\u001b[39;49mkwargs)\n\u001b[1;32m   1131\u001b[0m \u001b[39m# Do not call functions when jit is used\u001b[39;00m\n\u001b[1;32m   1132\u001b[0m full_backward_hooks, non_full_backward_hooks \u001b[39m=\u001b[39m [], []\n",
      "File \u001b[0;32m~/anaconda3/envs/bottleneck/lib/python3.10/site-packages/torch/nn/modules/activation.py:98\u001b[0m, in \u001b[0;36mReLU.forward\u001b[0;34m(self, input)\u001b[0m\n\u001b[1;32m     97\u001b[0m \u001b[39mdef\u001b[39;00m \u001b[39mforward\u001b[39m(\u001b[39mself\u001b[39m, \u001b[39minput\u001b[39m: Tensor) \u001b[39m-\u001b[39m\u001b[39m>\u001b[39m Tensor:\n\u001b[0;32m---> 98\u001b[0m     \u001b[39mreturn\u001b[39;00m F\u001b[39m.\u001b[39;49mrelu(\u001b[39minput\u001b[39;49m, inplace\u001b[39m=\u001b[39;49m\u001b[39mself\u001b[39;49m\u001b[39m.\u001b[39;49minplace)\n",
      "File \u001b[0;32m~/anaconda3/envs/bottleneck/lib/python3.10/site-packages/torch/nn/functional.py:1455\u001b[0m, in \u001b[0;36mrelu\u001b[0;34m(input, inplace)\u001b[0m\n\u001b[1;32m   1453\u001b[0m     \u001b[39mreturn\u001b[39;00m handle_torch_function(relu, (\u001b[39minput\u001b[39m,), \u001b[39minput\u001b[39m, inplace\u001b[39m=\u001b[39minplace)\n\u001b[1;32m   1454\u001b[0m \u001b[39mif\u001b[39;00m inplace:\n\u001b[0;32m-> 1455\u001b[0m     result \u001b[39m=\u001b[39m torch\u001b[39m.\u001b[39;49mrelu_(\u001b[39minput\u001b[39;49m)\n\u001b[1;32m   1456\u001b[0m \u001b[39melse\u001b[39;00m:\n\u001b[1;32m   1457\u001b[0m     result \u001b[39m=\u001b[39m torch\u001b[39m.\u001b[39mrelu(\u001b[39minput\u001b[39m)\n",
      "\u001b[0;31mKeyboardInterrupt\u001b[0m: "
     ]
    }
   ],
   "source": [
    "correct = 0\n",
    "\n",
    "for batch in training_data:\n",
    "    images, targets  = transform(batch[\"image\"]), batch[\"target\"]\n",
    "\n",
    "    pred = model(images)\n",
    "    pred = pred > 0.5\n",
    "    pred = pred.sum(dim=1)\n",
    "    pred = (pred > 0.5).long()\n",
    "\n",
    "    correct += (pred == targets).float().sum()\n",
    "\n",
    "accuracy = 100 * correct / len(training_data.dataset)"
   ]
  },
  {
   "cell_type": "code",
   "execution_count": 8,
   "metadata": {},
   "outputs": [
    {
     "data": {
      "text/plain": [
       "tensor(50.)"
      ]
     },
     "execution_count": 8,
     "metadata": {},
     "output_type": "execute_result"
    }
   ],
   "source": [
    "accuracy"
   ]
  },
  {
   "cell_type": "code",
   "execution_count": 9,
   "metadata": {},
   "outputs": [
    {
     "data": {
      "text/plain": [
       "tensor(5250.)"
      ]
     },
     "execution_count": 9,
     "metadata": {},
     "output_type": "execute_result"
    }
   ],
   "source": [
    "correct"
   ]
  },
  {
   "cell_type": "code",
   "execution_count": 6,
   "metadata": {},
   "outputs": [],
   "source": [
    "from tqdm import tqdm"
   ]
  },
  {
   "cell_type": "code",
   "execution_count": 7,
   "metadata": {},
   "outputs": [
    {
     "name": "stderr",
     "output_type": "stream",
     "text": [
      "  0%|          | 0/165 [00:00<?, ?it/s]"
     ]
    },
    {
     "name": "stdout",
     "output_type": "stream",
     "text": [
      "Warning: Input size (299x299) is not the native resolution (224x224) for this model. A resize will be performed but this could impact performance.\n",
      "Warning: Input image does not appear to be normalized correctly. The input image has the range [-2.03,2.40] which doesn't seem to be in the [-1024,1024] range. This warning may be wrong though. Only the first image is tested and we are only using a heuristic in an attempt to save a user from using the wrong normalization.\n"
     ]
    },
    {
     "name": "stderr",
     "output_type": "stream",
     "text": [
      "100%|██████████| 165/165 [1:08:51<00:00, 25.04s/it]\n"
     ]
    }
   ],
   "source": [
    "pneumothorax = []\n",
    "wo_pneumothorax = []\n",
    "\n",
    "for batch in tqdm(training_data):\n",
    "    images, attributes  = transform(batch[\"image\"]), batch[\"attributes\"]\n",
    "    pred = model(images)\n",
    "\n",
    "    N, _ = pred.shape\n",
    "\n",
    "    for i in range(N):\n",
    "        is_pneumothorax = attributes[i, 12].item()\n",
    "        pred_pneumothorax = pred[i, 3].item()\n",
    "\n",
    "        if is_pneumothorax == 0:\n",
    "            wo_pneumothorax.append(pred_pneumothorax)\n",
    "        else:\n",
    "            pneumothorax.append(pred_pneumothorax)"
   ]
  },
  {
   "cell_type": "code",
   "execution_count": 17,
   "metadata": {},
   "outputs": [
    {
     "data": {
      "text/plain": [
       "<AxesSubplot: xlabel='data', ylabel='label'>"
      ]
     },
     "execution_count": 17,
     "metadata": {},
     "output_type": "execute_result"
    },
    {
     "data": {
      "image/png": "[encoded data removed]",
      "text/plain": [
       "<Figure size 640x480 with 1 Axes>"
      ]
     },
     "metadata": {},
     "output_type": "display_data"
    }
   ],
   "source": [
    "\n",
    "dict_ = {\n",
    "    \"data\": pneumothorax + wo_pneumothorax,\n",
    "    \"label\": [\"pneumothorax\"] * len(pneumothorax) + [\"wo_pneumothorax\"] * len(wo_pneumothorax)\n",
    "}\n",
    "\n",
    "import seaborn as sns\n",
    "import pandas as pd\n",
    "\n",
    "\n",
    "df = pd.DataFrame.from_dict(dict_)\n",
    "\n",
    "sns.histplot(df, x=\"data\", y=\"label\")"
   ]
  },
  {
   "cell_type": "code",
   "execution_count": 11,
   "metadata": {},
   "outputs": [
    {
     "data": {
      "text/plain": [
       "(387, 10113)"
      ]
     },
     "execution_count": 11,
     "metadata": {},
     "output_type": "execute_result"
    }
   ],
   "source": [
    "len(pneumothorax), len(wo_pneumothorax)"
   ]
  },
  {
   "cell_type": "code",
   "execution_count": 13,
   "metadata": {},
   "outputs": [
    {
     "data": {
      "text/plain": [
       "array([<AxesSubplot: title={'center': 'pneumothorax'}, ylabel='Frequency'>,\n",
       "       <AxesSubplot: title={'center': 'wo_pneumothorax'}, ylabel='Frequency'>],\n",
       "      dtype=object)"
      ]
     },
     "execution_count": 13,
     "metadata": {},
     "output_type": "execute_result"
    },
    {
     "data": {
      "image/png": "[encoded data removed]",
      "text/plain": [
       "<Figure size 640x480 with 2 Axes>"
      ]
     },
     "metadata": {},
     "output_type": "display_data"
    }
   ],
   "source": [
    "df.plot.hist(by=\"label\")"
   ]
  },
  {
   "cell_type": "code",
   "execution_count": 7,
   "metadata": {},
   "outputs": [
    {
     "data": {
      "text/plain": [
       "{'image': tensor([[[-2.1179, -2.1179, -2.1179,  ..., -2.1179, -2.1179, -2.1179],\n",
       "          [-2.1179, -2.1179, -2.1179,  ..., -2.1179, -2.1179, -2.1179],\n",
       "          [-2.1179, -2.1179, -2.1179,  ..., -2.1179, -2.1179, -2.1179],\n",
       "          ...,\n",
       "          [-1.1027,  0.8444,  0.9959,  ..., -2.1179, -2.1020, -2.1131],\n",
       "          [-1.0761,  0.8542,  1.0052,  ..., -2.1054, -2.1168, -2.1179],\n",
       "          [-1.0308,  0.9825,  1.0487,  ..., -2.1069, -2.1171, -2.1140]],\n",
       " \n",
       "         [[-2.0357, -2.0357, -2.0357,  ..., -2.0357, -2.0357, -2.0357],\n",
       "          [-2.0357, -2.0357, -2.0357,  ..., -2.0357, -2.0357, -2.0357],\n",
       "          [-2.0357, -2.0357, -2.0357,  ..., -2.0357, -2.0357, -2.0357],\n",
       "          ...,\n",
       "          [-0.9978,  0.9928,  1.1476,  ..., -2.0357, -2.0194, -2.0308],\n",
       "          [-0.9707,  1.0027,  1.1571,  ..., -2.0230, -2.0346, -2.0357],\n",
       "          [-0.9244,  1.1339,  1.2015,  ..., -2.0244, -2.0349, -2.0317]],\n",
       " \n",
       "         [[-1.8044, -1.8044, -1.8044,  ..., -1.8044, -1.8044, -1.8044],\n",
       "          [-1.8044, -1.8044, -1.8044,  ..., -1.8044, -1.8044, -1.8044],\n",
       "          [-1.8044, -1.8044, -1.8044,  ..., -1.8044, -1.8044, -1.8044],\n",
       "          ...,\n",
       "          [-0.7712,  1.2106,  1.3647,  ..., -1.8044, -1.7882, -1.7996],\n",
       "          [-0.7441,  1.2204,  1.3742,  ..., -1.7918, -1.8033, -1.8044],\n",
       "          [-0.6981,  1.3511,  1.4184,  ..., -1.7932, -1.8037, -1.8004]]]),\n",
       " 'img_path': '/home/danis/Projects/AlphaCaption/AutoConceptBottleneck/data/mimic-cxr/images/212f55c9-9f286757-fb085dd2-c7e1c269-bd8c5436.jpg',\n",
       " 'report': 'final report examination chest portable ap indication year old man trach place now worsening hypoxia please evaluate aspirationevidence mucous plugging please evaluate aspirationevidence mucous plugging impression compared chest radiograph since most recently tracheostomy tube midline lung volume lower today than or more recently compared explained persistent bibasilar atelectasis more severe right pattern recurrent lobar collapse suggests difficulty bronchopulmonary toilet upper lung clear heart size topnormal no pulmonary edema no appreciable pleural abnormality',\n",
       " 'target_one_hot': tensor(1),\n",
       " 'attributes': tensor([1., 1., 1., 0., 0., 0., 0., 0., 0., 0., 0., 0., 0., 1.]),\n",
       " 'target': tensor(1)}"
      ]
     },
     "execution_count": 7,
     "metadata": {},
     "output_type": "execute_result"
    }
   ],
   "source": [
    "training_data.dataset[5782]"
   ]
  },
  {
   "cell_type": "code",
   "execution_count": 15,
   "metadata": {},
   "outputs": [
    {
     "data": {
      "text/plain": [
       "{'image': tensor([[[-2.1179, -2.1179, -2.1179,  ..., -2.1179, -2.1179, -2.1179],\n",
       "          [-2.1179, -2.1179, -2.1179,  ..., -2.1179, -2.1179, -2.1179],\n",
       "          [-2.1179, -2.1179, -2.1179,  ..., -2.1179, -2.1179, -2.1179],\n",
       "          ...,\n",
       "          [ 0.7646,  0.9846,  1.0267,  ...,  0.6853,  0.6333, -0.3025],\n",
       "          [ 0.7637,  0.8890,  1.0654,  ...,  0.7453,  0.5689, -0.3370],\n",
       "          [ 0.8773,  1.0189,  0.8606,  ...,  0.6621,  0.6708, -0.3206]],\n",
       " \n",
       "         [[-2.0357, -2.0357, -2.0357,  ..., -2.0357, -2.0357, -2.0357],\n",
       "          [-2.0357, -2.0357, -2.0357,  ..., -2.0357, -2.0357, -2.0357],\n",
       "          [-2.0357, -2.0357, -2.0357,  ..., -2.0357, -2.0357, -2.0357],\n",
       "          ...,\n",
       "          [ 0.9111,  1.1360,  1.1791,  ...,  0.8301,  0.7769, -0.1798],\n",
       "          [ 0.9102,  1.0383,  1.2187,  ...,  0.8914,  0.7110, -0.2150],\n",
       "          [ 1.0264,  1.1711,  1.0092,  ...,  0.8063,  0.8153, -0.1983]],\n",
       " \n",
       "         [[-1.8044, -1.8044, -1.8044,  ..., -1.8044, -1.8044, -1.8044],\n",
       "          [-1.8044, -1.8044, -1.8044,  ..., -1.8044, -1.8044, -1.8044],\n",
       "          [-1.8044, -1.8044, -1.8044,  ..., -1.8044, -1.8044, -1.8044],\n",
       "          ...,\n",
       "          [ 1.1293,  1.3532,  1.3961,  ...,  1.0486,  0.9957,  0.0432],\n",
       "          [ 1.1284,  1.2559,  1.4355,  ...,  1.1097,  0.9301,  0.0082],\n",
       "          [ 1.2440,  1.3881,  1.2270,  ...,  1.0249,  1.0339,  0.0248]]]),\n",
       " 'img_path': '/home/danis/Projects/AlphaCaption/AutoConceptBottleneck/data/mimic-cxr/images/8155b77f-b18f0fc8-56ec00da-85d917e8-9ef23ccf.jpg',\n",
       " 'report': 'final report indication m syncope dyspnea ho chf cf chf technique single portable view chest comparison finding exam limited secondary portable technique patient body habitus there no confluent consolidation or overt pulmonary edema cardiomediastinal silhouette stable radiopaque foreign body project over svc prior median sternotomy wire again noted impression no definite acute cardiopulmonary process',\n",
       " 'target_one_hot': tensor(0),\n",
       " 'attributes': tensor([1., 0., 0., 0., 0., 0., 0., 0., 0., 0., 0., 0., 0., 0.]),\n",
       " 'target': tensor(0)}"
      ]
     },
     "execution_count": 15,
     "metadata": {},
     "output_type": "execute_result"
    }
   ],
   "source": [
    "training_data.dataset[0]"
   ]
  },
  {
   "cell_type": "code",
   "execution_count": 12,
   "metadata": {},
   "outputs": [
    {
     "name": "stdout",
     "output_type": "stream",
     "text": [
      "Setting XRayResizer engine to cv2 could increase performance.\n"
     ]
    },
    {
     "data": {
      "text/plain": [
       "{'Atelectasis': 0.726127,\n",
       " 'Consolidation': 0.6207861,\n",
       " 'Infiltration': 0.54933876,\n",
       " 'Pneumothorax': 0.5334953,\n",
       " 'Edema': 0.55016243,\n",
       " 'Emphysema': 0.50184005,\n",
       " 'Fibrosis': 0.5139498,\n",
       " 'Effusion': 0.7209858,\n",
       " 'Pneumonia': 0.5278103,\n",
       " 'Pleural_Thickening': 0.503368,\n",
       " 'Cardiomegaly': 0.6322302,\n",
       " 'Nodule': 0.51772857,\n",
       " 'Mass': 0.5820681,\n",
       " 'Hernia': 0.12756976,\n",
       " 'Lung Lesion': 0.55403256,\n",
       " 'Fracture': 0.5448383,\n",
       " 'Lung Opacity': 0.72864985,\n",
       " 'Enlarged Cardiomediastinum': 0.53265786}"
      ]
     },
     "execution_count": 12,
     "metadata": {},
     "output_type": "execute_result"
    }
   ],
   "source": [
    "import torchxrayvision as xrv\n",
    "import skimage, torch, torchvision\n",
    "\n",
    "# Prepare the image:\n",
    "img = skimage.io.imread('/home/danis/Projects/AlphaCaption/AutoConceptBottleneck/data/mimic-cxr/images/212f55c9-9f286757-fb085dd2-c7e1c269-bd8c5436.jpg')\n",
    "img = xrv.datasets.normalize(img, 255) # convert 8-bit image to [-1024, 1024] range\n",
    "img = img[None, ...] # Make single color channel\n",
    "\n",
    "transform = torchvision.transforms.Compose([xrv.datasets.XRayCenterCrop(),xrv.datasets.XRayResizer(224)])\n",
    "\n",
    "img = transform(img)\n",
    "img = torch.from_numpy(img)\n",
    "\n",
    "# Load model and process image\n",
    "model = xrv.models.DenseNet(weights=\"densenet121-res224-all\")\n",
    "outputs = model(img[None,...]) # or model.features(img[None,...]) \n",
    "\n",
    "# Print results\n",
    "dict(zip(model.pathologies,outputs[0].detach().numpy()))"
   ]
  },
  {
   "cell_type": "code",
   "execution_count": 16,
   "metadata": {},
   "outputs": [
    {
     "name": "stdout",
     "output_type": "stream",
     "text": [
      "Setting XRayResizer engine to cv2 could increase performance.\n"
     ]
    },
    {
     "data": {
      "text/plain": [
       "{'Atelectasis': 0.88946605,\n",
       " 'Consolidation': 0.7209674,\n",
       " 'Infiltration': 0.53634703,\n",
       " 'Pneumothorax': 0.50981086,\n",
       " 'Edema': 0.9064338,\n",
       " 'Emphysema': 0.50148004,\n",
       " 'Fibrosis': 0.50226974,\n",
       " 'Effusion': 0.8489134,\n",
       " 'Pneumonia': 0.6382859,\n",
       " 'Pleural_Thickening': 0.34959203,\n",
       " 'Cardiomegaly': 0.8875191,\n",
       " 'Nodule': 0.3263848,\n",
       " 'Mass': 0.52556425,\n",
       " 'Hernia': 0.061662037,\n",
       " 'Lung Lesion': 0.6583947,\n",
       " 'Fracture': 0.70790243,\n",
       " 'Lung Opacity': 0.8768433,\n",
       " 'Enlarged Cardiomediastinum': 0.8338008}"
      ]
     },
     "execution_count": 16,
     "metadata": {},
     "output_type": "execute_result"
    }
   ],
   "source": [
    "import torchxrayvision as xrv\n",
    "import skimage, torch, torchvision\n",
    "\n",
    "# Prepare the image:\n",
    "img = skimage.io.imread( '/home/danis/Projects/AlphaCaption/AutoConceptBottleneck/data/mimic-cxr/images/8155b77f-b18f0fc8-56ec00da-85d917e8-9ef23ccf.jpg')\n",
    "img = xrv.datasets.normalize(img, 255) # convert 8-bit image to [-1024, 1024] range\n",
    "img = img[None, ...] # Make single color channel\n",
    "\n",
    "transform = torchvision.transforms.Compose([xrv.datasets.XRayCenterCrop(),xrv.datasets.XRayResizer(224)])\n",
    "\n",
    "img = transform(img)\n",
    "img = torch.from_numpy(img)\n",
    "\n",
    "# Load model and process image\n",
    "model = xrv.models.DenseNet(weights=\"densenet121-res224-all\")\n",
    "outputs = model(img[None,...]) # or model.features(img[None,...]) \n",
    "\n",
    "# Print results\n",
    "dict(zip(model.pathologies,outputs[0].detach().numpy()))"
   ]
  },
  {
   "cell_type": "code",
   "execution_count": null,
   "metadata": {},
   "outputs": [],
   "source": []
  },
  {
   "cell_type": "code",
   "execution_count": null,
   "metadata": {},
   "outputs": [],
   "source": []
  },
  {
   "cell_type": "code",
   "execution_count": 1,
   "metadata": {},
   "outputs": [],
   "source": [
    "from helpers import load_experiment"
   ]
  },
  {
   "cell_type": "code",
   "execution_count": null,
   "metadata": {},
   "outputs": [],
   "source": [
    "dm, model = load_experiment(\".\")"
   ]
  }
 ],
 "metadata": {
  "kernelspec": {
   "display_name": "bottleneck",
   "language": "python",
   "name": "python3"
  },
  "language_info": {
   "codemirror_mode": {
    "name": "ipython",
    "version": 3
   },
   "file_extension": ".py",
   "mimetype": "text/x-python",
   "name": "python",
   "nbconvert_exporter": "python",
   "pygments_lexer": "ipython3",
   "version": "3.10.8"
  },
  "orig_nbformat": 4
 },
 "nbformat": 4,
 "nbformat_minor": 2
}
