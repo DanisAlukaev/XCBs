{
 "cells": [
  {
   "cell_type": "code",
   "execution_count": 2,
   "metadata": {},
   "outputs": [],
   "source": [
    "import torch\n",
    "import torch.nn as nn"
   ]
  },
  {
   "cell_type": "code",
   "execution_count": 12,
   "metadata": {},
   "outputs": [],
   "source": [
    "top_k = 2"
   ]
  },
  {
   "cell_type": "code",
   "execution_count": 13,
   "metadata": {},
   "outputs": [],
   "source": [
    "logits = torch.randn((3, 10))"
   ]
  },
  {
   "cell_type": "code",
   "execution_count": 14,
   "metadata": {},
   "outputs": [
    {
     "data": {
      "text/plain": [
       "tensor([[ 0.8006,  0.4391,  0.9963, -1.0577,  0.6655,  1.8054,  1.1058,  0.2714,\n",
       "         -0.6118, -0.9285],\n",
       "        [-0.6156,  0.1248, -0.2189, -1.5510, -0.3128,  0.2942,  0.0506,  1.3962,\n",
       "         -0.2427, -0.4779],\n",
       "        [-1.1814, -0.6649, -0.1693,  0.9384,  1.2404, -0.0670,  0.2987,  0.2910,\n",
       "         -0.4496, -0.7796]])"
      ]
     },
     "execution_count": 14,
     "metadata": {},
     "output_type": "execute_result"
    }
   ],
   "source": [
    "logits"
   ]
  },
  {
   "cell_type": "code",
   "execution_count": 15,
   "metadata": {},
   "outputs": [],
   "source": [
    "topk_lrg = torch.topk(logits.T, k=top_k, dim=1, largest=True)"
   ]
  },
  {
   "cell_type": "code",
   "execution_count": 16,
   "metadata": {},
   "outputs": [
    {
     "data": {
      "text/plain": [
       "torch.return_types.topk(\n",
       "values=tensor([[ 0.8006, -0.6156],\n",
       "        [ 0.4391,  0.1248],\n",
       "        [ 0.9963, -0.1693],\n",
       "        [ 0.9384, -1.0577],\n",
       "        [ 1.2404,  0.6655],\n",
       "        [ 1.8054,  0.2942],\n",
       "        [ 1.1058,  0.2987],\n",
       "        [ 1.3962,  0.2910],\n",
       "        [-0.2427, -0.4496],\n",
       "        [-0.4779, -0.7796]]),\n",
       "indices=tensor([[0, 1],\n",
       "        [0, 1],\n",
       "        [0, 2],\n",
       "        [2, 0],\n",
       "        [2, 0],\n",
       "        [0, 1],\n",
       "        [0, 2],\n",
       "        [1, 2],\n",
       "        [1, 2],\n",
       "        [1, 2]]))"
      ]
     },
     "execution_count": 16,
     "metadata": {},
     "output_type": "execute_result"
    }
   ],
   "source": [
    "topk_lrg"
   ]
  },
  {
   "cell_type": "code",
   "execution_count": 8,
   "metadata": {},
   "outputs": [
    {
     "name": "stderr",
     "output_type": "stream",
     "text": [
      "/tmp/ipykernel_25029/2123808535.py:6: UserWarning: Implicit dimension choice for softmax has been deprecated. Change the call to include dim=X as an argument.\n",
      "  softmax(a).sum(), a / a.sum()\n"
     ]
    },
    {
     "data": {
      "text/plain": [
       "(tensor(1.), tensor([1.0000e-07, 1.0000e-07, 4.0000e-01, 6.0000e-01]))"
      ]
     },
     "execution_count": 8,
     "metadata": {},
     "output_type": "execute_result"
    }
   ],
   "source": [
    "import torch\n",
    "\n",
    "softmax = torch.nn.Softmax()\n",
    "\n",
    "a = torch.tensor([0.0000001, 0.0000001, 0.4, 0.6]) * 100\n",
    "softmax(a).sum(), a / a.sum()"
   ]
  },
  {
   "cell_type": "code",
   "execution_count": null,
   "metadata": {},
   "outputs": [],
   "source": []
  }
 ],
 "metadata": {
  "kernelspec": {
   "display_name": "bottleneck",
   "language": "python",
   "name": "python3"
  },
  "language_info": {
   "codemirror_mode": {
    "name": "ipython",
    "version": 3
   },
   "file_extension": ".py",
   "mimetype": "text/x-python",
   "name": "python",
   "nbconvert_exporter": "python",
   "pygments_lexer": "ipython3",
   "version": "3.10.8"
  },
  "orig_nbformat": 4
 },
 "nbformat": 4,
 "nbformat_minor": 2
}
